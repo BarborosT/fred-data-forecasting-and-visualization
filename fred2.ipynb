{
 "cells": [
  {
   "cell_type": "code",
   "execution_count": 2,
   "metadata": {},
   "outputs": [],
   "source": [
    "import pandas as pd\n",
    "import numpy as np\n",
    "import matplotlib.pyplot as plt\n",
    "\n",
    "import fredapi as fd\n",
    "import plotly.express as px"
   ]
  },
  {
   "cell_type": "code",
   "execution_count": 3,
   "metadata": {},
   "outputs": [],
   "source": [
    "fred = fd.Fred(api_key='api-key')"
   ]
  },
  {
   "cell_type": "code",
   "execution_count": 4,
   "metadata": {},
   "outputs": [],
   "source": [
    "data = fred.search('Consumer Price Index for All Urban Consumers: All Items in U.S. City Average')"
   ]
  },
  {
   "cell_type": "code",
   "execution_count": 5,
   "metadata": {},
   "outputs": [
    {
     "data": {
      "text/html": [
       "<div>\n",
       "<style scoped>\n",
       "    .dataframe tbody tr th:only-of-type {\n",
       "        vertical-align: middle;\n",
       "    }\n",
       "\n",
       "    .dataframe tbody tr th {\n",
       "        vertical-align: top;\n",
       "    }\n",
       "\n",
       "    .dataframe thead th {\n",
       "        text-align: right;\n",
       "    }\n",
       "</style>\n",
       "<table border=\"1\" class=\"dataframe\">\n",
       "  <thead>\n",
       "    <tr style=\"text-align: right;\">\n",
       "      <th></th>\n",
       "      <th>id</th>\n",
       "      <th>realtime_start</th>\n",
       "      <th>realtime_end</th>\n",
       "      <th>title</th>\n",
       "      <th>observation_start</th>\n",
       "      <th>observation_end</th>\n",
       "      <th>frequency</th>\n",
       "      <th>frequency_short</th>\n",
       "      <th>units</th>\n",
       "      <th>units_short</th>\n",
       "      <th>seasonal_adjustment</th>\n",
       "      <th>seasonal_adjustment_short</th>\n",
       "      <th>last_updated</th>\n",
       "      <th>popularity</th>\n",
       "      <th>notes</th>\n",
       "    </tr>\n",
       "    <tr>\n",
       "      <th>series id</th>\n",
       "      <th></th>\n",
       "      <th></th>\n",
       "      <th></th>\n",
       "      <th></th>\n",
       "      <th></th>\n",
       "      <th></th>\n",
       "      <th></th>\n",
       "      <th></th>\n",
       "      <th></th>\n",
       "      <th></th>\n",
       "      <th></th>\n",
       "      <th></th>\n",
       "      <th></th>\n",
       "      <th></th>\n",
       "      <th></th>\n",
       "    </tr>\n",
       "  </thead>\n",
       "  <tbody>\n",
       "    <tr>\n",
       "      <th>CPIAUCSL</th>\n",
       "      <td>CPIAUCSL</td>\n",
       "      <td>2023-03-31</td>\n",
       "      <td>2023-03-31</td>\n",
       "      <td>Consumer Price Index for All Urban Consumers: ...</td>\n",
       "      <td>1947-01-01</td>\n",
       "      <td>2023-02-01</td>\n",
       "      <td>Monthly</td>\n",
       "      <td>M</td>\n",
       "      <td>Index 1982-1984=100</td>\n",
       "      <td>Index 1982-1984=100</td>\n",
       "      <td>Seasonally Adjusted</td>\n",
       "      <td>SA</td>\n",
       "      <td>2023-03-14 07:39:01-05:00</td>\n",
       "      <td>94</td>\n",
       "      <td>The Consumer Price Index for All Urban Consume...</td>\n",
       "    </tr>\n",
       "    <tr>\n",
       "      <th>CPIAUCNS</th>\n",
       "      <td>CPIAUCNS</td>\n",
       "      <td>2023-03-31</td>\n",
       "      <td>2023-03-31</td>\n",
       "      <td>Consumer Price Index for All Urban Consumers: ...</td>\n",
       "      <td>1913-01-01</td>\n",
       "      <td>2023-02-01</td>\n",
       "      <td>Monthly</td>\n",
       "      <td>M</td>\n",
       "      <td>Index 1982-1984=100</td>\n",
       "      <td>Index 1982-1984=100</td>\n",
       "      <td>Not Seasonally Adjusted</td>\n",
       "      <td>NSA</td>\n",
       "      <td>2023-03-14 07:39:01-05:00</td>\n",
       "      <td>72</td>\n",
       "      <td>Handbook of Methods (https://www.bls.gov/opub/...</td>\n",
       "    </tr>\n",
       "    <tr>\n",
       "      <th>CUUS0000SA0</th>\n",
       "      <td>CUUS0000SA0</td>\n",
       "      <td>2023-03-31</td>\n",
       "      <td>2023-03-31</td>\n",
       "      <td>Consumer Price Index for All Urban Consumers: ...</td>\n",
       "      <td>1984-01-01</td>\n",
       "      <td>2022-07-01</td>\n",
       "      <td>Semiannual</td>\n",
       "      <td>SA</td>\n",
       "      <td>Index 1982-1984=100</td>\n",
       "      <td>Index 1982-1984=100</td>\n",
       "      <td>Not Seasonally Adjusted</td>\n",
       "      <td>NSA</td>\n",
       "      <td>2023-01-12 07:38:17-06:00</td>\n",
       "      <td>45</td>\n",
       "      <td>None</td>\n",
       "    </tr>\n",
       "    <tr>\n",
       "      <th>CPILFESL</th>\n",
       "      <td>CPILFESL</td>\n",
       "      <td>2023-03-31</td>\n",
       "      <td>2023-03-31</td>\n",
       "      <td>Consumer Price Index for All Urban Consumers: ...</td>\n",
       "      <td>1957-01-01</td>\n",
       "      <td>2023-02-01</td>\n",
       "      <td>Monthly</td>\n",
       "      <td>M</td>\n",
       "      <td>Index 1982-1984=100</td>\n",
       "      <td>Index 1982-1984=100</td>\n",
       "      <td>Seasonally Adjusted</td>\n",
       "      <td>SA</td>\n",
       "      <td>2023-03-14 07:38:02-05:00</td>\n",
       "      <td>82</td>\n",
       "      <td>The \"Consumer Price Index for All Urban Consum...</td>\n",
       "    </tr>\n",
       "    <tr>\n",
       "      <th>APU0000708111</th>\n",
       "      <td>APU0000708111</td>\n",
       "      <td>2023-03-31</td>\n",
       "      <td>2023-03-31</td>\n",
       "      <td>Average Price: Eggs, Grade A, Large (Cost per ...</td>\n",
       "      <td>1980-01-01</td>\n",
       "      <td>2023-02-01</td>\n",
       "      <td>Monthly</td>\n",
       "      <td>M</td>\n",
       "      <td>U.S. Dollars</td>\n",
       "      <td>U.S. $</td>\n",
       "      <td>Not Seasonally Adjusted</td>\n",
       "      <td>NSA</td>\n",
       "      <td>2023-03-14 07:34:01-05:00</td>\n",
       "      <td>81</td>\n",
       "      <td>Large white, Grade A chicken eggs, sold in a c...</td>\n",
       "    </tr>\n",
       "  </tbody>\n",
       "</table>\n",
       "</div>"
      ],
      "text/plain": [
       "                          id realtime_start realtime_end  \\\n",
       "series id                                                  \n",
       "CPIAUCSL            CPIAUCSL     2023-03-31   2023-03-31   \n",
       "CPIAUCNS            CPIAUCNS     2023-03-31   2023-03-31   \n",
       "CUUS0000SA0      CUUS0000SA0     2023-03-31   2023-03-31   \n",
       "CPILFESL            CPILFESL     2023-03-31   2023-03-31   \n",
       "APU0000708111  APU0000708111     2023-03-31   2023-03-31   \n",
       "\n",
       "                                                           title  \\\n",
       "series id                                                          \n",
       "CPIAUCSL       Consumer Price Index for All Urban Consumers: ...   \n",
       "CPIAUCNS       Consumer Price Index for All Urban Consumers: ...   \n",
       "CUUS0000SA0    Consumer Price Index for All Urban Consumers: ...   \n",
       "CPILFESL       Consumer Price Index for All Urban Consumers: ...   \n",
       "APU0000708111  Average Price: Eggs, Grade A, Large (Cost per ...   \n",
       "\n",
       "              observation_start observation_end   frequency frequency_short  \\\n",
       "series id                                                                     \n",
       "CPIAUCSL             1947-01-01      2023-02-01     Monthly               M   \n",
       "CPIAUCNS             1913-01-01      2023-02-01     Monthly               M   \n",
       "CUUS0000SA0          1984-01-01      2022-07-01  Semiannual              SA   \n",
       "CPILFESL             1957-01-01      2023-02-01     Monthly               M   \n",
       "APU0000708111        1980-01-01      2023-02-01     Monthly               M   \n",
       "\n",
       "                             units          units_short  \\\n",
       "series id                                                 \n",
       "CPIAUCSL       Index 1982-1984=100  Index 1982-1984=100   \n",
       "CPIAUCNS       Index 1982-1984=100  Index 1982-1984=100   \n",
       "CUUS0000SA0    Index 1982-1984=100  Index 1982-1984=100   \n",
       "CPILFESL       Index 1982-1984=100  Index 1982-1984=100   \n",
       "APU0000708111         U.S. Dollars               U.S. $   \n",
       "\n",
       "                   seasonal_adjustment seasonal_adjustment_short  \\\n",
       "series id                                                          \n",
       "CPIAUCSL           Seasonally Adjusted                        SA   \n",
       "CPIAUCNS       Not Seasonally Adjusted                       NSA   \n",
       "CUUS0000SA0    Not Seasonally Adjusted                       NSA   \n",
       "CPILFESL           Seasonally Adjusted                        SA   \n",
       "APU0000708111  Not Seasonally Adjusted                       NSA   \n",
       "\n",
       "                            last_updated popularity  \\\n",
       "series id                                             \n",
       "CPIAUCSL       2023-03-14 07:39:01-05:00         94   \n",
       "CPIAUCNS       2023-03-14 07:39:01-05:00         72   \n",
       "CUUS0000SA0    2023-01-12 07:38:17-06:00         45   \n",
       "CPILFESL       2023-03-14 07:38:02-05:00         82   \n",
       "APU0000708111  2023-03-14 07:34:01-05:00         81   \n",
       "\n",
       "                                                           notes  \n",
       "series id                                                         \n",
       "CPIAUCSL       The Consumer Price Index for All Urban Consume...  \n",
       "CPIAUCNS       Handbook of Methods (https://www.bls.gov/opub/...  \n",
       "CUUS0000SA0                                                 None  \n",
       "CPILFESL       The \"Consumer Price Index for All Urban Consum...  \n",
       "APU0000708111  Large white, Grade A chicken eggs, sold in a c...  "
      ]
     },
     "execution_count": 5,
     "metadata": {},
     "output_type": "execute_result"
    }
   ],
   "source": [
    "data.head()"
   ]
  },
  {
   "cell_type": "code",
   "execution_count": 48,
   "metadata": {},
   "outputs": [
    {
     "data": {
      "text/html": [
       "<div>\n",
       "<style scoped>\n",
       "    .dataframe tbody tr th:only-of-type {\n",
       "        vertical-align: middle;\n",
       "    }\n",
       "\n",
       "    .dataframe tbody tr th {\n",
       "        vertical-align: top;\n",
       "    }\n",
       "\n",
       "    .dataframe thead th {\n",
       "        text-align: right;\n",
       "    }\n",
       "</style>\n",
       "<table border=\"1\" class=\"dataframe\">\n",
       "  <thead>\n",
       "    <tr style=\"text-align: right;\">\n",
       "      <th></th>\n",
       "      <th>id</th>\n",
       "      <th>realtime_start</th>\n",
       "      <th>realtime_end</th>\n",
       "      <th>title</th>\n",
       "      <th>observation_start</th>\n",
       "      <th>observation_end</th>\n",
       "      <th>frequency</th>\n",
       "      <th>frequency_short</th>\n",
       "      <th>units</th>\n",
       "      <th>units_short</th>\n",
       "      <th>seasonal_adjustment</th>\n",
       "      <th>seasonal_adjustment_short</th>\n",
       "      <th>last_updated</th>\n",
       "      <th>popularity</th>\n",
       "      <th>notes</th>\n",
       "    </tr>\n",
       "    <tr>\n",
       "      <th>series id</th>\n",
       "      <th></th>\n",
       "      <th></th>\n",
       "      <th></th>\n",
       "      <th></th>\n",
       "      <th></th>\n",
       "      <th></th>\n",
       "      <th></th>\n",
       "      <th></th>\n",
       "      <th></th>\n",
       "      <th></th>\n",
       "      <th></th>\n",
       "      <th></th>\n",
       "      <th></th>\n",
       "      <th></th>\n",
       "      <th></th>\n",
       "    </tr>\n",
       "  </thead>\n",
       "  <tbody>\n",
       "    <tr>\n",
       "      <th>APUC00074715</th>\n",
       "      <td>APUC00074715</td>\n",
       "      <td>2023-03-31</td>\n",
       "      <td>2023-03-31</td>\n",
       "      <td>Average Price: Gasoline, Unleaded Midgrade (Co...</td>\n",
       "      <td>1993-12-01</td>\n",
       "      <td>1997-12-01</td>\n",
       "      <td>Monthly</td>\n",
       "      <td>M</td>\n",
       "      <td>U.S. Dollars</td>\n",
       "      <td>U.S. $</td>\n",
       "      <td>Not Seasonally Adjusted</td>\n",
       "      <td>NSA</td>\n",
       "      <td>2019-07-29 09:32:19-05:00</td>\n",
       "      <td>1</td>\n",
       "      <td>All unleaded mid-grade gasoline.  Average cons...</td>\n",
       "    </tr>\n",
       "    <tr>\n",
       "      <th>APUA21474713</th>\n",
       "      <td>APUA21474713</td>\n",
       "      <td>2023-03-31</td>\n",
       "      <td>2023-03-31</td>\n",
       "      <td>Average Price: Gasoline, Leaded Premium (Cost ...</td>\n",
       "      <td>1978-01-01</td>\n",
       "      <td>1980-05-01</td>\n",
       "      <td>Monthly</td>\n",
       "      <td>M</td>\n",
       "      <td>U.S. Dollars</td>\n",
       "      <td>U.S. $</td>\n",
       "      <td>Not Seasonally Adjusted</td>\n",
       "      <td>NSA</td>\n",
       "      <td>2019-07-29 09:31:15-05:00</td>\n",
       "      <td>1</td>\n",
       "      <td>Average consumer prices are calculated for hou...</td>\n",
       "    </tr>\n",
       "    <tr>\n",
       "      <th>APUS49B74712</th>\n",
       "      <td>APUS49B74712</td>\n",
       "      <td>2023-03-31</td>\n",
       "      <td>2023-03-31</td>\n",
       "      <td>Average Price: Gasoline, Leaded Regular (Cost ...</td>\n",
       "      <td>1978-01-01</td>\n",
       "      <td>1991-04-01</td>\n",
       "      <td>Monthly</td>\n",
       "      <td>M</td>\n",
       "      <td>U.S. Dollars</td>\n",
       "      <td>U.S. $</td>\n",
       "      <td>Not Seasonally Adjusted</td>\n",
       "      <td>NSA</td>\n",
       "      <td>2019-07-29 09:31:17-05:00</td>\n",
       "      <td>1</td>\n",
       "      <td>Average consumer prices are calculated for hou...</td>\n",
       "    </tr>\n",
       "  </tbody>\n",
       "</table>\n",
       "</div>"
      ],
      "text/plain": [
       "                        id realtime_start realtime_end  \\\n",
       "series id                                                \n",
       "APUC00074715  APUC00074715     2023-03-31   2023-03-31   \n",
       "APUA21474713  APUA21474713     2023-03-31   2023-03-31   \n",
       "APUS49B74712  APUS49B74712     2023-03-31   2023-03-31   \n",
       "\n",
       "                                                          title  \\\n",
       "series id                                                         \n",
       "APUC00074715  Average Price: Gasoline, Unleaded Midgrade (Co...   \n",
       "APUA21474713  Average Price: Gasoline, Leaded Premium (Cost ...   \n",
       "APUS49B74712  Average Price: Gasoline, Leaded Regular (Cost ...   \n",
       "\n",
       "             observation_start observation_end frequency frequency_short  \\\n",
       "series id                                                                  \n",
       "APUC00074715        1993-12-01      1997-12-01   Monthly               M   \n",
       "APUA21474713        1978-01-01      1980-05-01   Monthly               M   \n",
       "APUS49B74712        1978-01-01      1991-04-01   Monthly               M   \n",
       "\n",
       "                     units units_short      seasonal_adjustment  \\\n",
       "series id                                                         \n",
       "APUC00074715  U.S. Dollars      U.S. $  Not Seasonally Adjusted   \n",
       "APUA21474713  U.S. Dollars      U.S. $  Not Seasonally Adjusted   \n",
       "APUS49B74712  U.S. Dollars      U.S. $  Not Seasonally Adjusted   \n",
       "\n",
       "             seasonal_adjustment_short               last_updated popularity  \\\n",
       "series id                                                                      \n",
       "APUC00074715                       NSA  2019-07-29 09:32:19-05:00          1   \n",
       "APUA21474713                       NSA  2019-07-29 09:31:15-05:00          1   \n",
       "APUS49B74712                       NSA  2019-07-29 09:31:17-05:00          1   \n",
       "\n",
       "                                                          notes  \n",
       "series id                                                        \n",
       "APUC00074715  All unleaded mid-grade gasoline.  Average cons...  \n",
       "APUA21474713  Average consumer prices are calculated for hou...  \n",
       "APUS49B74712  Average consumer prices are calculated for hou...  "
      ]
     },
     "execution_count": 48,
     "metadata": {},
     "output_type": "execute_result"
    }
   ],
   "source": [
    "data.tail(3)"
   ]
  },
  {
   "cell_type": "code",
   "execution_count": 6,
   "metadata": {},
   "outputs": [
    {
     "data": {
      "text/plain": [
       "'Consumer Price Index for All Urban Consumers: All Items in U.S. City Average'"
      ]
     },
     "execution_count": 6,
     "metadata": {},
     "output_type": "execute_result"
    }
   ],
   "source": [
    "data['title'][0] # brings the title"
   ]
  },
  {
   "cell_type": "code",
   "execution_count": 7,
   "metadata": {},
   "outputs": [],
   "source": [
    "cpi = fred.get_series('CPIAUCSL')"
   ]
  },
  {
   "cell_type": "code",
   "execution_count": 8,
   "metadata": {},
   "outputs": [
    {
     "data": {
      "text/plain": [
       "1947-01-01     21.480\n",
       "1947-02-01     21.620\n",
       "1947-03-01     22.000\n",
       "1947-04-01     22.000\n",
       "1947-05-01     21.950\n",
       "               ...   \n",
       "2022-10-01    297.987\n",
       "2022-11-01    298.598\n",
       "2022-12-01    298.990\n",
       "2023-01-01    300.536\n",
       "2023-02-01    301.648\n",
       "Name: values, Length: 914, dtype: float64"
      ]
     },
     "execution_count": 8,
     "metadata": {},
     "output_type": "execute_result"
    }
   ],
   "source": [
    " cpi.name = 'values'\n",
    " cpi"
   ]
  },
  {
   "cell_type": "code",
   "execution_count": 9,
   "metadata": {},
   "outputs": [
    {
     "data": {
      "text/html": [
       "<div>\n",
       "<style scoped>\n",
       "    .dataframe tbody tr th:only-of-type {\n",
       "        vertical-align: middle;\n",
       "    }\n",
       "\n",
       "    .dataframe tbody tr th {\n",
       "        vertical-align: top;\n",
       "    }\n",
       "\n",
       "    .dataframe thead th {\n",
       "        text-align: right;\n",
       "    }\n",
       "</style>\n",
       "<table border=\"1\" class=\"dataframe\">\n",
       "  <thead>\n",
       "    <tr style=\"text-align: right;\">\n",
       "      <th></th>\n",
       "      <th>index</th>\n",
       "      <th>values</th>\n",
       "    </tr>\n",
       "  </thead>\n",
       "  <tbody>\n",
       "    <tr>\n",
       "      <th>0</th>\n",
       "      <td>1947-01-01</td>\n",
       "      <td>21.480</td>\n",
       "    </tr>\n",
       "    <tr>\n",
       "      <th>1</th>\n",
       "      <td>1947-02-01</td>\n",
       "      <td>21.620</td>\n",
       "    </tr>\n",
       "    <tr>\n",
       "      <th>2</th>\n",
       "      <td>1947-03-01</td>\n",
       "      <td>22.000</td>\n",
       "    </tr>\n",
       "    <tr>\n",
       "      <th>3</th>\n",
       "      <td>1947-04-01</td>\n",
       "      <td>22.000</td>\n",
       "    </tr>\n",
       "    <tr>\n",
       "      <th>4</th>\n",
       "      <td>1947-05-01</td>\n",
       "      <td>21.950</td>\n",
       "    </tr>\n",
       "    <tr>\n",
       "      <th>...</th>\n",
       "      <td>...</td>\n",
       "      <td>...</td>\n",
       "    </tr>\n",
       "    <tr>\n",
       "      <th>909</th>\n",
       "      <td>2022-10-01</td>\n",
       "      <td>297.987</td>\n",
       "    </tr>\n",
       "    <tr>\n",
       "      <th>910</th>\n",
       "      <td>2022-11-01</td>\n",
       "      <td>298.598</td>\n",
       "    </tr>\n",
       "    <tr>\n",
       "      <th>911</th>\n",
       "      <td>2022-12-01</td>\n",
       "      <td>298.990</td>\n",
       "    </tr>\n",
       "    <tr>\n",
       "      <th>912</th>\n",
       "      <td>2023-01-01</td>\n",
       "      <td>300.536</td>\n",
       "    </tr>\n",
       "    <tr>\n",
       "      <th>913</th>\n",
       "      <td>2023-02-01</td>\n",
       "      <td>301.648</td>\n",
       "    </tr>\n",
       "  </tbody>\n",
       "</table>\n",
       "<p>914 rows × 2 columns</p>\n",
       "</div>"
      ],
      "text/plain": [
       "         index   values\n",
       "0   1947-01-01   21.480\n",
       "1   1947-02-01   21.620\n",
       "2   1947-03-01   22.000\n",
       "3   1947-04-01   22.000\n",
       "4   1947-05-01   21.950\n",
       "..         ...      ...\n",
       "909 2022-10-01  297.987\n",
       "910 2022-11-01  298.598\n",
       "911 2022-12-01  298.990\n",
       "912 2023-01-01  300.536\n",
       "913 2023-02-01  301.648\n",
       "\n",
       "[914 rows x 2 columns]"
      ]
     },
     "execution_count": 9,
     "metadata": {},
     "output_type": "execute_result"
    }
   ],
   "source": [
    "df = pd.DataFrame(cpi).reset_index()\n",
    "df"
   ]
  },
  {
   "cell_type": "code",
   "execution_count": 10,
   "metadata": {},
   "outputs": [
    {
     "data": {
      "text/html": [
       "<div>\n",
       "<style scoped>\n",
       "    .dataframe tbody tr th:only-of-type {\n",
       "        vertical-align: middle;\n",
       "    }\n",
       "\n",
       "    .dataframe tbody tr th {\n",
       "        vertical-align: top;\n",
       "    }\n",
       "\n",
       "    .dataframe thead th {\n",
       "        text-align: right;\n",
       "    }\n",
       "</style>\n",
       "<table border=\"1\" class=\"dataframe\">\n",
       "  <thead>\n",
       "    <tr style=\"text-align: right;\">\n",
       "      <th></th>\n",
       "      <th>index</th>\n",
       "      <th>values</th>\n",
       "    </tr>\n",
       "  </thead>\n",
       "  <tbody>\n",
       "    <tr>\n",
       "      <th>276</th>\n",
       "      <td>1970-01-01</td>\n",
       "      <td>37.900</td>\n",
       "    </tr>\n",
       "    <tr>\n",
       "      <th>277</th>\n",
       "      <td>1970-02-01</td>\n",
       "      <td>38.100</td>\n",
       "    </tr>\n",
       "    <tr>\n",
       "      <th>278</th>\n",
       "      <td>1970-03-01</td>\n",
       "      <td>38.300</td>\n",
       "    </tr>\n",
       "    <tr>\n",
       "      <th>279</th>\n",
       "      <td>1970-04-01</td>\n",
       "      <td>38.500</td>\n",
       "    </tr>\n",
       "    <tr>\n",
       "      <th>280</th>\n",
       "      <td>1970-05-01</td>\n",
       "      <td>38.600</td>\n",
       "    </tr>\n",
       "    <tr>\n",
       "      <th>...</th>\n",
       "      <td>...</td>\n",
       "      <td>...</td>\n",
       "    </tr>\n",
       "    <tr>\n",
       "      <th>909</th>\n",
       "      <td>2022-10-01</td>\n",
       "      <td>297.987</td>\n",
       "    </tr>\n",
       "    <tr>\n",
       "      <th>910</th>\n",
       "      <td>2022-11-01</td>\n",
       "      <td>298.598</td>\n",
       "    </tr>\n",
       "    <tr>\n",
       "      <th>911</th>\n",
       "      <td>2022-12-01</td>\n",
       "      <td>298.990</td>\n",
       "    </tr>\n",
       "    <tr>\n",
       "      <th>912</th>\n",
       "      <td>2023-01-01</td>\n",
       "      <td>300.536</td>\n",
       "    </tr>\n",
       "    <tr>\n",
       "      <th>913</th>\n",
       "      <td>2023-02-01</td>\n",
       "      <td>301.648</td>\n",
       "    </tr>\n",
       "  </tbody>\n",
       "</table>\n",
       "<p>638 rows × 2 columns</p>\n",
       "</div>"
      ],
      "text/plain": [
       "         index   values\n",
       "276 1970-01-01   37.900\n",
       "277 1970-02-01   38.100\n",
       "278 1970-03-01   38.300\n",
       "279 1970-04-01   38.500\n",
       "280 1970-05-01   38.600\n",
       "..         ...      ...\n",
       "909 2022-10-01  297.987\n",
       "910 2022-11-01  298.598\n",
       "911 2022-12-01  298.990\n",
       "912 2023-01-01  300.536\n",
       "913 2023-02-01  301.648\n",
       "\n",
       "[638 rows x 2 columns]"
      ]
     },
     "execution_count": 10,
     "metadata": {},
     "output_type": "execute_result"
    }
   ],
   "source": [
    "df2 = df[df['index']>'1969-12-01']\n",
    "df2"
   ]
  },
  {
   "cell_type": "code",
   "execution_count": 15,
   "metadata": {},
   "outputs": [
    {
     "data": {
      "application/vnd.plotly.v1+json": {
       "config": {
        "plotlyServerURL": "https://plot.ly"
       },
       "data": [
        {
         "hovertemplate": "index=%{x}<br>values=%{y}<extra></extra>",
         "legendgroup": "",
         "line": {
          "color": "#636efa",
          "dash": "solid"
         },
         "marker": {
          "symbol": "circle"
         },
         "mode": "lines",
         "name": "",
         "orientation": "v",
         "showlegend": false,
         "type": "scatter",
         "x": [
          "1970-01-01T00:00:00",
          "1970-02-01T00:00:00",
          "1970-03-01T00:00:00",
          "1970-04-01T00:00:00",
          "1970-05-01T00:00:00",
          "1970-06-01T00:00:00",
          "1970-07-01T00:00:00",
          "1970-08-01T00:00:00",
          "1970-09-01T00:00:00",
          "1970-10-01T00:00:00",
          "1970-11-01T00:00:00",
          "1970-12-01T00:00:00",
          "1971-01-01T00:00:00",
          "1971-02-01T00:00:00",
          "1971-03-01T00:00:00",
          "1971-04-01T00:00:00",
          "1971-05-01T00:00:00",
          "1971-06-01T00:00:00",
          "1971-07-01T00:00:00",
          "1971-08-01T00:00:00",
          "1971-09-01T00:00:00",
          "1971-10-01T00:00:00",
          "1971-11-01T00:00:00",
          "1971-12-01T00:00:00",
          "1972-01-01T00:00:00",
          "1972-02-01T00:00:00",
          "1972-03-01T00:00:00",
          "1972-04-01T00:00:00",
          "1972-05-01T00:00:00",
          "1972-06-01T00:00:00",
          "1972-07-01T00:00:00",
          "1972-08-01T00:00:00",
          "1972-09-01T00:00:00",
          "1972-10-01T00:00:00",
          "1972-11-01T00:00:00",
          "1972-12-01T00:00:00",
          "1973-01-01T00:00:00",
          "1973-02-01T00:00:00",
          "1973-03-01T00:00:00",
          "1973-04-01T00:00:00",
          "1973-05-01T00:00:00",
          "1973-06-01T00:00:00",
          "1973-07-01T00:00:00",
          "1973-08-01T00:00:00",
          "1973-09-01T00:00:00",
          "1973-10-01T00:00:00",
          "1973-11-01T00:00:00",
          "1973-12-01T00:00:00",
          "1974-01-01T00:00:00",
          "1974-02-01T00:00:00",
          "1974-03-01T00:00:00",
          "1974-04-01T00:00:00",
          "1974-05-01T00:00:00",
          "1974-06-01T00:00:00",
          "1974-07-01T00:00:00",
          "1974-08-01T00:00:00",
          "1974-09-01T00:00:00",
          "1974-10-01T00:00:00",
          "1974-11-01T00:00:00",
          "1974-12-01T00:00:00",
          "1975-01-01T00:00:00",
          "1975-02-01T00:00:00",
          "1975-03-01T00:00:00",
          "1975-04-01T00:00:00",
          "1975-05-01T00:00:00",
          "1975-06-01T00:00:00",
          "1975-07-01T00:00:00",
          "1975-08-01T00:00:00",
          "1975-09-01T00:00:00",
          "1975-10-01T00:00:00",
          "1975-11-01T00:00:00",
          "1975-12-01T00:00:00",
          "1976-01-01T00:00:00",
          "1976-02-01T00:00:00",
          "1976-03-01T00:00:00",
          "1976-04-01T00:00:00",
          "1976-05-01T00:00:00",
          "1976-06-01T00:00:00",
          "1976-07-01T00:00:00",
          "1976-08-01T00:00:00",
          "1976-09-01T00:00:00",
          "1976-10-01T00:00:00",
          "1976-11-01T00:00:00",
          "1976-12-01T00:00:00",
          "1977-01-01T00:00:00",
          "1977-02-01T00:00:00",
          "1977-03-01T00:00:00",
          "1977-04-01T00:00:00",
          "1977-05-01T00:00:00",
          "1977-06-01T00:00:00",
          "1977-07-01T00:00:00",
          "1977-08-01T00:00:00",
          "1977-09-01T00:00:00",
          "1977-10-01T00:00:00",
          "1977-11-01T00:00:00",
          "1977-12-01T00:00:00",
          "1978-01-01T00:00:00",
          "1978-02-01T00:00:00",
          "1978-03-01T00:00:00",
          "1978-04-01T00:00:00",
          "1978-05-01T00:00:00",
          "1978-06-01T00:00:00",
          "1978-07-01T00:00:00",
          "1978-08-01T00:00:00",
          "1978-09-01T00:00:00",
          "1978-10-01T00:00:00",
          "1978-11-01T00:00:00",
          "1978-12-01T00:00:00",
          "1979-01-01T00:00:00",
          "1979-02-01T00:00:00",
          "1979-03-01T00:00:00",
          "1979-04-01T00:00:00",
          "1979-05-01T00:00:00",
          "1979-06-01T00:00:00",
          "1979-07-01T00:00:00",
          "1979-08-01T00:00:00",
          "1979-09-01T00:00:00",
          "1979-10-01T00:00:00",
          "1979-11-01T00:00:00",
          "1979-12-01T00:00:00",
          "1980-01-01T00:00:00",
          "1980-02-01T00:00:00",
          "1980-03-01T00:00:00",
          "1980-04-01T00:00:00",
          "1980-05-01T00:00:00",
          "1980-06-01T00:00:00",
          "1980-07-01T00:00:00",
          "1980-08-01T00:00:00",
          "1980-09-01T00:00:00",
          "1980-10-01T00:00:00",
          "1980-11-01T00:00:00",
          "1980-12-01T00:00:00",
          "1981-01-01T00:00:00",
          "1981-02-01T00:00:00",
          "1981-03-01T00:00:00",
          "1981-04-01T00:00:00",
          "1981-05-01T00:00:00",
          "1981-06-01T00:00:00",
          "1981-07-01T00:00:00",
          "1981-08-01T00:00:00",
          "1981-09-01T00:00:00",
          "1981-10-01T00:00:00",
          "1981-11-01T00:00:00",
          "1981-12-01T00:00:00",
          "1982-01-01T00:00:00",
          "1982-02-01T00:00:00",
          "1982-03-01T00:00:00",
          "1982-04-01T00:00:00",
          "1982-05-01T00:00:00",
          "1982-06-01T00:00:00",
          "1982-07-01T00:00:00",
          "1982-08-01T00:00:00",
          "1982-09-01T00:00:00",
          "1982-10-01T00:00:00",
          "1982-11-01T00:00:00",
          "1982-12-01T00:00:00",
          "1983-01-01T00:00:00",
          "1983-02-01T00:00:00",
          "1983-03-01T00:00:00",
          "1983-04-01T00:00:00",
          "1983-05-01T00:00:00",
          "1983-06-01T00:00:00",
          "1983-07-01T00:00:00",
          "1983-08-01T00:00:00",
          "1983-09-01T00:00:00",
          "1983-10-01T00:00:00",
          "1983-11-01T00:00:00",
          "1983-12-01T00:00:00",
          "1984-01-01T00:00:00",
          "1984-02-01T00:00:00",
          "1984-03-01T00:00:00",
          "1984-04-01T00:00:00",
          "1984-05-01T00:00:00",
          "1984-06-01T00:00:00",
          "1984-07-01T00:00:00",
          "1984-08-01T00:00:00",
          "1984-09-01T00:00:00",
          "1984-10-01T00:00:00",
          "1984-11-01T00:00:00",
          "1984-12-01T00:00:00",
          "1985-01-01T00:00:00",
          "1985-02-01T00:00:00",
          "1985-03-01T00:00:00",
          "1985-04-01T00:00:00",
          "1985-05-01T00:00:00",
          "1985-06-01T00:00:00",
          "1985-07-01T00:00:00",
          "1985-08-01T00:00:00",
          "1985-09-01T00:00:00",
          "1985-10-01T00:00:00",
          "1985-11-01T00:00:00",
          "1985-12-01T00:00:00",
          "1986-01-01T00:00:00",
          "1986-02-01T00:00:00",
          "1986-03-01T00:00:00",
          "1986-04-01T00:00:00",
          "1986-05-01T00:00:00",
          "1986-06-01T00:00:00",
          "1986-07-01T00:00:00",
          "1986-08-01T00:00:00",
          "1986-09-01T00:00:00",
          "1986-10-01T00:00:00",
          "1986-11-01T00:00:00",
          "1986-12-01T00:00:00",
          "1987-01-01T00:00:00",
          "1987-02-01T00:00:00",
          "1987-03-01T00:00:00",
          "1987-04-01T00:00:00",
          "1987-05-01T00:00:00",
          "1987-06-01T00:00:00",
          "1987-07-01T00:00:00",
          "1987-08-01T00:00:00",
          "1987-09-01T00:00:00",
          "1987-10-01T00:00:00",
          "1987-11-01T00:00:00",
          "1987-12-01T00:00:00",
          "1988-01-01T00:00:00",
          "1988-02-01T00:00:00",
          "1988-03-01T00:00:00",
          "1988-04-01T00:00:00",
          "1988-05-01T00:00:00",
          "1988-06-01T00:00:00",
          "1988-07-01T00:00:00",
          "1988-08-01T00:00:00",
          "1988-09-01T00:00:00",
          "1988-10-01T00:00:00",
          "1988-11-01T00:00:00",
          "1988-12-01T00:00:00",
          "1989-01-01T00:00:00",
          "1989-02-01T00:00:00",
          "1989-03-01T00:00:00",
          "1989-04-01T00:00:00",
          "1989-05-01T00:00:00",
          "1989-06-01T00:00:00",
          "1989-07-01T00:00:00",
          "1989-08-01T00:00:00",
          "1989-09-01T00:00:00",
          "1989-10-01T00:00:00",
          "1989-11-01T00:00:00",
          "1989-12-01T00:00:00",
          "1990-01-01T00:00:00",
          "1990-02-01T00:00:00",
          "1990-03-01T00:00:00",
          "1990-04-01T00:00:00",
          "1990-05-01T00:00:00",
          "1990-06-01T00:00:00",
          "1990-07-01T00:00:00",
          "1990-08-01T00:00:00",
          "1990-09-01T00:00:00",
          "1990-10-01T00:00:00",
          "1990-11-01T00:00:00",
          "1990-12-01T00:00:00",
          "1991-01-01T00:00:00",
          "1991-02-01T00:00:00",
          "1991-03-01T00:00:00",
          "1991-04-01T00:00:00",
          "1991-05-01T00:00:00",
          "1991-06-01T00:00:00",
          "1991-07-01T00:00:00",
          "1991-08-01T00:00:00",
          "1991-09-01T00:00:00",
          "1991-10-01T00:00:00",
          "1991-11-01T00:00:00",
          "1991-12-01T00:00:00",
          "1992-01-01T00:00:00",
          "1992-02-01T00:00:00",
          "1992-03-01T00:00:00",
          "1992-04-01T00:00:00",
          "1992-05-01T00:00:00",
          "1992-06-01T00:00:00",
          "1992-07-01T00:00:00",
          "1992-08-01T00:00:00",
          "1992-09-01T00:00:00",
          "1992-10-01T00:00:00",
          "1992-11-01T00:00:00",
          "1992-12-01T00:00:00",
          "1993-01-01T00:00:00",
          "1993-02-01T00:00:00",
          "1993-03-01T00:00:00",
          "1993-04-01T00:00:00",
          "1993-05-01T00:00:00",
          "1993-06-01T00:00:00",
          "1993-07-01T00:00:00",
          "1993-08-01T00:00:00",
          "1993-09-01T00:00:00",
          "1993-10-01T00:00:00",
          "1993-11-01T00:00:00",
          "1993-12-01T00:00:00",
          "1994-01-01T00:00:00",
          "1994-02-01T00:00:00",
          "1994-03-01T00:00:00",
          "1994-04-01T00:00:00",
          "1994-05-01T00:00:00",
          "1994-06-01T00:00:00",
          "1994-07-01T00:00:00",
          "1994-08-01T00:00:00",
          "1994-09-01T00:00:00",
          "1994-10-01T00:00:00",
          "1994-11-01T00:00:00",
          "1994-12-01T00:00:00",
          "1995-01-01T00:00:00",
          "1995-02-01T00:00:00",
          "1995-03-01T00:00:00",
          "1995-04-01T00:00:00",
          "1995-05-01T00:00:00",
          "1995-06-01T00:00:00",
          "1995-07-01T00:00:00",
          "1995-08-01T00:00:00",
          "1995-09-01T00:00:00",
          "1995-10-01T00:00:00",
          "1995-11-01T00:00:00",
          "1995-12-01T00:00:00",
          "1996-01-01T00:00:00",
          "1996-02-01T00:00:00",
          "1996-03-01T00:00:00",
          "1996-04-01T00:00:00",
          "1996-05-01T00:00:00",
          "1996-06-01T00:00:00",
          "1996-07-01T00:00:00",
          "1996-08-01T00:00:00",
          "1996-09-01T00:00:00",
          "1996-10-01T00:00:00",
          "1996-11-01T00:00:00",
          "1996-12-01T00:00:00",
          "1997-01-01T00:00:00",
          "1997-02-01T00:00:00",
          "1997-03-01T00:00:00",
          "1997-04-01T00:00:00",
          "1997-05-01T00:00:00",
          "1997-06-01T00:00:00",
          "1997-07-01T00:00:00",
          "1997-08-01T00:00:00",
          "1997-09-01T00:00:00",
          "1997-10-01T00:00:00",
          "1997-11-01T00:00:00",
          "1997-12-01T00:00:00",
          "1998-01-01T00:00:00",
          "1998-02-01T00:00:00",
          "1998-03-01T00:00:00",
          "1998-04-01T00:00:00",
          "1998-05-01T00:00:00",
          "1998-06-01T00:00:00",
          "1998-07-01T00:00:00",
          "1998-08-01T00:00:00",
          "1998-09-01T00:00:00",
          "1998-10-01T00:00:00",
          "1998-11-01T00:00:00",
          "1998-12-01T00:00:00",
          "1999-01-01T00:00:00",
          "1999-02-01T00:00:00",
          "1999-03-01T00:00:00",
          "1999-04-01T00:00:00",
          "1999-05-01T00:00:00",
          "1999-06-01T00:00:00",
          "1999-07-01T00:00:00",
          "1999-08-01T00:00:00",
          "1999-09-01T00:00:00",
          "1999-10-01T00:00:00",
          "1999-11-01T00:00:00",
          "1999-12-01T00:00:00",
          "2000-01-01T00:00:00",
          "2000-02-01T00:00:00",
          "2000-03-01T00:00:00",
          "2000-04-01T00:00:00",
          "2000-05-01T00:00:00",
          "2000-06-01T00:00:00",
          "2000-07-01T00:00:00",
          "2000-08-01T00:00:00",
          "2000-09-01T00:00:00",
          "2000-10-01T00:00:00",
          "2000-11-01T00:00:00",
          "2000-12-01T00:00:00",
          "2001-01-01T00:00:00",
          "2001-02-01T00:00:00",
          "2001-03-01T00:00:00",
          "2001-04-01T00:00:00",
          "2001-05-01T00:00:00",
          "2001-06-01T00:00:00",
          "2001-07-01T00:00:00",
          "2001-08-01T00:00:00",
          "2001-09-01T00:00:00",
          "2001-10-01T00:00:00",
          "2001-11-01T00:00:00",
          "2001-12-01T00:00:00",
          "2002-01-01T00:00:00",
          "2002-02-01T00:00:00",
          "2002-03-01T00:00:00",
          "2002-04-01T00:00:00",
          "2002-05-01T00:00:00",
          "2002-06-01T00:00:00",
          "2002-07-01T00:00:00",
          "2002-08-01T00:00:00",
          "2002-09-01T00:00:00",
          "2002-10-01T00:00:00",
          "2002-11-01T00:00:00",
          "2002-12-01T00:00:00",
          "2003-01-01T00:00:00",
          "2003-02-01T00:00:00",
          "2003-03-01T00:00:00",
          "2003-04-01T00:00:00",
          "2003-05-01T00:00:00",
          "2003-06-01T00:00:00",
          "2003-07-01T00:00:00",
          "2003-08-01T00:00:00",
          "2003-09-01T00:00:00",
          "2003-10-01T00:00:00",
          "2003-11-01T00:00:00",
          "2003-12-01T00:00:00",
          "2004-01-01T00:00:00",
          "2004-02-01T00:00:00",
          "2004-03-01T00:00:00",
          "2004-04-01T00:00:00",
          "2004-05-01T00:00:00",
          "2004-06-01T00:00:00",
          "2004-07-01T00:00:00",
          "2004-08-01T00:00:00",
          "2004-09-01T00:00:00",
          "2004-10-01T00:00:00",
          "2004-11-01T00:00:00",
          "2004-12-01T00:00:00",
          "2005-01-01T00:00:00",
          "2005-02-01T00:00:00",
          "2005-03-01T00:00:00",
          "2005-04-01T00:00:00",
          "2005-05-01T00:00:00",
          "2005-06-01T00:00:00",
          "2005-07-01T00:00:00",
          "2005-08-01T00:00:00",
          "2005-09-01T00:00:00",
          "2005-10-01T00:00:00",
          "2005-11-01T00:00:00",
          "2005-12-01T00:00:00",
          "2006-01-01T00:00:00",
          "2006-02-01T00:00:00",
          "2006-03-01T00:00:00",
          "2006-04-01T00:00:00",
          "2006-05-01T00:00:00",
          "2006-06-01T00:00:00",
          "2006-07-01T00:00:00",
          "2006-08-01T00:00:00",
          "2006-09-01T00:00:00",
          "2006-10-01T00:00:00",
          "2006-11-01T00:00:00",
          "2006-12-01T00:00:00",
          "2007-01-01T00:00:00",
          "2007-02-01T00:00:00",
          "2007-03-01T00:00:00",
          "2007-04-01T00:00:00",
          "2007-05-01T00:00:00",
          "2007-06-01T00:00:00",
          "2007-07-01T00:00:00",
          "2007-08-01T00:00:00",
          "2007-09-01T00:00:00",
          "2007-10-01T00:00:00",
          "2007-11-01T00:00:00",
          "2007-12-01T00:00:00",
          "2008-01-01T00:00:00",
          "2008-02-01T00:00:00",
          "2008-03-01T00:00:00",
          "2008-04-01T00:00:00",
          "2008-05-01T00:00:00",
          "2008-06-01T00:00:00",
          "2008-07-01T00:00:00",
          "2008-08-01T00:00:00",
          "2008-09-01T00:00:00",
          "2008-10-01T00:00:00",
          "2008-11-01T00:00:00",
          "2008-12-01T00:00:00",
          "2009-01-01T00:00:00",
          "2009-02-01T00:00:00",
          "2009-03-01T00:00:00",
          "2009-04-01T00:00:00",
          "2009-05-01T00:00:00",
          "2009-06-01T00:00:00",
          "2009-07-01T00:00:00",
          "2009-08-01T00:00:00",
          "2009-09-01T00:00:00",
          "2009-10-01T00:00:00",
          "2009-11-01T00:00:00",
          "2009-12-01T00:00:00",
          "2010-01-01T00:00:00",
          "2010-02-01T00:00:00",
          "2010-03-01T00:00:00",
          "2010-04-01T00:00:00",
          "2010-05-01T00:00:00",
          "2010-06-01T00:00:00",
          "2010-07-01T00:00:00",
          "2010-08-01T00:00:00",
          "2010-09-01T00:00:00",
          "2010-10-01T00:00:00",
          "2010-11-01T00:00:00",
          "2010-12-01T00:00:00",
          "2011-01-01T00:00:00",
          "2011-02-01T00:00:00",
          "2011-03-01T00:00:00",
          "2011-04-01T00:00:00",
          "2011-05-01T00:00:00",
          "2011-06-01T00:00:00",
          "2011-07-01T00:00:00",
          "2011-08-01T00:00:00",
          "2011-09-01T00:00:00",
          "2011-10-01T00:00:00",
          "2011-11-01T00:00:00",
          "2011-12-01T00:00:00",
          "2012-01-01T00:00:00",
          "2012-02-01T00:00:00",
          "2012-03-01T00:00:00",
          "2012-04-01T00:00:00",
          "2012-05-01T00:00:00",
          "2012-06-01T00:00:00",
          "2012-07-01T00:00:00",
          "2012-08-01T00:00:00",
          "2012-09-01T00:00:00",
          "2012-10-01T00:00:00",
          "2012-11-01T00:00:00",
          "2012-12-01T00:00:00",
          "2013-01-01T00:00:00",
          "2013-02-01T00:00:00",
          "2013-03-01T00:00:00",
          "2013-04-01T00:00:00",
          "2013-05-01T00:00:00",
          "2013-06-01T00:00:00",
          "2013-07-01T00:00:00",
          "2013-08-01T00:00:00",
          "2013-09-01T00:00:00",
          "2013-10-01T00:00:00",
          "2013-11-01T00:00:00",
          "2013-12-01T00:00:00",
          "2014-01-01T00:00:00",
          "2014-02-01T00:00:00",
          "2014-03-01T00:00:00",
          "2014-04-01T00:00:00",
          "2014-05-01T00:00:00",
          "2014-06-01T00:00:00",
          "2014-07-01T00:00:00",
          "2014-08-01T00:00:00",
          "2014-09-01T00:00:00",
          "2014-10-01T00:00:00",
          "2014-11-01T00:00:00",
          "2014-12-01T00:00:00",
          "2015-01-01T00:00:00",
          "2015-02-01T00:00:00",
          "2015-03-01T00:00:00",
          "2015-04-01T00:00:00",
          "2015-05-01T00:00:00",
          "2015-06-01T00:00:00",
          "2015-07-01T00:00:00",
          "2015-08-01T00:00:00",
          "2015-09-01T00:00:00",
          "2015-10-01T00:00:00",
          "2015-11-01T00:00:00",
          "2015-12-01T00:00:00",
          "2016-01-01T00:00:00",
          "2016-02-01T00:00:00",
          "2016-03-01T00:00:00",
          "2016-04-01T00:00:00",
          "2016-05-01T00:00:00",
          "2016-06-01T00:00:00",
          "2016-07-01T00:00:00",
          "2016-08-01T00:00:00",
          "2016-09-01T00:00:00",
          "2016-10-01T00:00:00",
          "2016-11-01T00:00:00",
          "2016-12-01T00:00:00",
          "2017-01-01T00:00:00",
          "2017-02-01T00:00:00",
          "2017-03-01T00:00:00",
          "2017-04-01T00:00:00",
          "2017-05-01T00:00:00",
          "2017-06-01T00:00:00",
          "2017-07-01T00:00:00",
          "2017-08-01T00:00:00",
          "2017-09-01T00:00:00",
          "2017-10-01T00:00:00",
          "2017-11-01T00:00:00",
          "2017-12-01T00:00:00",
          "2018-01-01T00:00:00",
          "2018-02-01T00:00:00",
          "2018-03-01T00:00:00",
          "2018-04-01T00:00:00",
          "2018-05-01T00:00:00",
          "2018-06-01T00:00:00",
          "2018-07-01T00:00:00",
          "2018-08-01T00:00:00",
          "2018-09-01T00:00:00",
          "2018-10-01T00:00:00",
          "2018-11-01T00:00:00",
          "2018-12-01T00:00:00",
          "2019-01-01T00:00:00",
          "2019-02-01T00:00:00",
          "2019-03-01T00:00:00",
          "2019-04-01T00:00:00",
          "2019-05-01T00:00:00",
          "2019-06-01T00:00:00",
          "2019-07-01T00:00:00",
          "2019-08-01T00:00:00",
          "2019-09-01T00:00:00",
          "2019-10-01T00:00:00",
          "2019-11-01T00:00:00",
          "2019-12-01T00:00:00",
          "2020-01-01T00:00:00",
          "2020-02-01T00:00:00",
          "2020-03-01T00:00:00",
          "2020-04-01T00:00:00",
          "2020-05-01T00:00:00",
          "2020-06-01T00:00:00",
          "2020-07-01T00:00:00",
          "2020-08-01T00:00:00",
          "2020-09-01T00:00:00",
          "2020-10-01T00:00:00",
          "2020-11-01T00:00:00",
          "2020-12-01T00:00:00",
          "2021-01-01T00:00:00",
          "2021-02-01T00:00:00",
          "2021-03-01T00:00:00",
          "2021-04-01T00:00:00",
          "2021-05-01T00:00:00",
          "2021-06-01T00:00:00",
          "2021-07-01T00:00:00",
          "2021-08-01T00:00:00",
          "2021-09-01T00:00:00",
          "2021-10-01T00:00:00",
          "2021-11-01T00:00:00",
          "2021-12-01T00:00:00",
          "2022-01-01T00:00:00",
          "2022-02-01T00:00:00",
          "2022-03-01T00:00:00",
          "2022-04-01T00:00:00",
          "2022-05-01T00:00:00",
          "2022-06-01T00:00:00",
          "2022-07-01T00:00:00",
          "2022-08-01T00:00:00",
          "2022-09-01T00:00:00",
          "2022-10-01T00:00:00",
          "2022-11-01T00:00:00",
          "2022-12-01T00:00:00",
          "2023-01-01T00:00:00",
          "2023-02-01T00:00:00"
         ],
         "xaxis": "x",
         "y": [
          37.9,
          38.1,
          38.3,
          38.5,
          38.6,
          38.8,
          38.9,
          39,
          39.2,
          39.4,
          39.6,
          39.8,
          39.9,
          39.9,
          40,
          40.1,
          40.3,
          40.5,
          40.6,
          40.7,
          40.8,
          40.9,
          41,
          41.1,
          41.2,
          41.4,
          41.4,
          41.5,
          41.6,
          41.7,
          41.8,
          41.9,
          42.1,
          42.2,
          42.4,
          42.5,
          42.7,
          43,
          43.4,
          43.7,
          43.9,
          44.2,
          44.2,
          45,
          45.2,
          45.6,
          45.9,
          46.3,
          46.8,
          47.3,
          47.8,
          48.1,
          48.6,
          49,
          49.3,
          49.9,
          50.6,
          51,
          51.5,
          51.9,
          52.3,
          52.6,
          52.8,
          53,
          53.1,
          53.5,
          54,
          54.2,
          54.6,
          54.9,
          55.3,
          55.6,
          55.8,
          55.9,
          56,
          56.1,
          56.4,
          56.7,
          57,
          57.3,
          57.6,
          57.9,
          58.1,
          58.4,
          58.7,
          59.3,
          59.6,
          60,
          60.2,
          60.5,
          60.8,
          61.1,
          61.3,
          61.6,
          62,
          62.3,
          62.7,
          63,
          63.4,
          63.9,
          64.5,
          65,
          65.5,
          65.9,
          66.5,
          67.1,
          67.5,
          67.9,
          68.5,
          69.2,
          69.9,
          70.6,
          71.4,
          72.2,
          73,
          73.7,
          74.4,
          75.2,
          76,
          76.9,
          78,
          79,
          80.1,
          80.9,
          81.7,
          82.5,
          82.6,
          83.2,
          83.9,
          84.7,
          85.6,
          86.4,
          87.2,
          88,
          88.6,
          89.1,
          89.7,
          90.5,
          91.5,
          92.2,
          93.1,
          93.4,
          93.8,
          94.1,
          94.4,
          94.7,
          94.7,
          95,
          95.9,
          97,
          97.5,
          97.7,
          97.7,
          98.1,
          98,
          97.7,
          97.9,
          98,
          98.1,
          98.8,
          99.2,
          99.4,
          99.8,
          100.1,
          100.4,
          100.8,
          101.1,
          101.4,
          102.1,
          102.6,
          102.9,
          103.3,
          103.5,
          103.7,
          104.1,
          104.4,
          104.7,
          105.1,
          105.3,
          105.5,
          105.7,
          106.3,
          106.8,
          107,
          107.2,
          107.5,
          107.7,
          107.9,
          108.1,
          108.5,
          109,
          109.5,
          109.9,
          109.7,
          109.1,
          108.7,
          109,
          109.4,
          109.5,
          109.6,
          110,
          110.2,
          110.4,
          110.8,
          111.4,
          111.8,
          112.2,
          112.7,
          113,
          113.5,
          113.8,
          114.3,
          114.7,
          115,
          115.4,
          115.6,
          116,
          116.2,
          116.5,
          117.2,
          117.5,
          118,
          118.5,
          119,
          119.5,
          119.9,
          120.3,
          120.7,
          121.2,
          121.6,
          122.2,
          123.1,
          123.7,
          124.1,
          124.5,
          124.5,
          124.8,
          125.4,
          125.9,
          126.3,
          127.5,
          128,
          128.6,
          128.9,
          129.1,
          129.9,
          130.5,
          131.6,
          132.5,
          133.4,
          133.7,
          134.2,
          134.7,
          134.8,
          134.8,
          135.1,
          135.6,
          136,
          136.2,
          136.6,
          137,
          137.2,
          137.8,
          138.2,
          138.3,
          138.6,
          139.1,
          139.4,
          139.7,
          140.1,
          140.5,
          140.8,
          141.1,
          141.7,
          142.1,
          142.3,
          142.8,
          143.1,
          143.3,
          143.8,
          144.2,
          144.3,
          144.5,
          144.8,
          145,
          145.6,
          146,
          146.3,
          146.3,
          146.7,
          147.1,
          147.2,
          147.5,
          147.9,
          148.4,
          149,
          149.3,
          149.4,
          149.8,
          150.1,
          150.5,
          150.9,
          151.2,
          151.8,
          152.1,
          152.4,
          152.6,
          152.9,
          153.1,
          153.5,
          153.7,
          153.9,
          154.7,
          155,
          155.5,
          156.1,
          156.4,
          156.7,
          157,
          157.2,
          157.7,
          158.2,
          158.7,
          159.1,
          159.4,
          159.7,
          159.8,
          159.9,
          159.9,
          160.2,
          160.4,
          160.8,
          161.2,
          161.5,
          161.7,
          161.8,
          162,
          162,
          162,
          162.2,
          162.6,
          162.8,
          163.2,
          163.4,
          163.5,
          163.9,
          164.1,
          164.4,
          164.7,
          164.7,
          164.8,
          165.9,
          166,
          166,
          166.7,
          167.1,
          167.8,
          168.1,
          168.4,
          168.8,
          169.3,
          170,
          171,
          170.9,
          171.2,
          172.2,
          172.7,
          172.7,
          173.6,
          173.9,
          174.2,
          174.6,
          175.6,
          176,
          176.1,
          176.4,
          177.3,
          177.7,
          177.4,
          177.4,
          178.1,
          177.6,
          177.5,
          177.4,
          177.7,
          178,
          178.5,
          179.3,
          179.5,
          179.6,
          180,
          180.5,
          180.8,
          181.2,
          181.5,
          181.8,
          182.6,
          183.6,
          183.9,
          183.2,
          182.9,
          183.1,
          183.7,
          184.5,
          185.1,
          184.9,
          185,
          185.5,
          186.3,
          186.7,
          187.1,
          187.4,
          188.2,
          188.9,
          189.1,
          189.2,
          189.8,
          190.8,
          191.7,
          191.7,
          191.6,
          192.4,
          193.1,
          193.7,
          193.6,
          193.7,
          194.9,
          196.1,
          198.8,
          199.1,
          198.1,
          198.1,
          199.3,
          199.4,
          199.7,
          200.7,
          201.3,
          201.8,
          202.9,
          203.8,
          202.8,
          201.9,
          202,
          203.1,
          203.437,
          204.226,
          205.288,
          205.904,
          206.755,
          207.234,
          207.603,
          207.667,
          208.547,
          209.19,
          210.834,
          211.445,
          212.174,
          212.687,
          213.448,
          213.942,
          215.208,
          217.463,
          219.016,
          218.69,
          218.877,
          216.995,
          213.153,
          211.398,
          211.933,
          212.705,
          212.495,
          212.709,
          213.022,
          214.79,
          214.726,
          215.445,
          215.861,
          216.509,
          217.234,
          217.347,
          217.488,
          217.281,
          217.353,
          217.403,
          217.29,
          217.199,
          217.605,
          217.923,
          218.275,
          219.035,
          219.59,
          220.472,
          221.187,
          221.898,
          223.046,
          224.093,
          224.806,
          224.806,
          225.395,
          226.106,
          226.597,
          226.75,
          227.169,
          227.223,
          227.842,
          228.329,
          228.807,
          229.187,
          228.713,
          228.524,
          228.59,
          229.918,
          231.015,
          231.638,
          231.249,
          231.221,
          231.679,
          232.937,
          232.282,
          231.797,
          231.893,
          232.445,
          232.9,
          233.456,
          233.544,
          233.669,
          234.1,
          234.719,
          235.288,
          235.547,
          236.028,
          236.468,
          236.918,
          237.231,
          237.498,
          237.46,
          237.477,
          237.43,
          236.983,
          236.252,
          234.747,
          235.342,
          235.976,
          236.222,
          237.001,
          237.657,
          238.034,
          238.033,
          237.498,
          237.733,
          238.017,
          237.761,
          237.652,
          237.336,
          238.08,
          238.992,
          239.557,
          240.222,
          240.101,
          240.545,
          241.176,
          241.741,
          242.026,
          242.637,
          243.618,
          244.006,
          243.892,
          244.193,
          244.004,
          244.163,
          244.243,
          245.183,
          246.435,
          246.626,
          247.284,
          247.805,
          248.859,
          249.529,
          249.577,
          250.227,
          250.792,
          251.018,
          251.214,
          251.663,
          252.182,
          252.772,
          252.594,
          252.767,
          252.718,
          253.322,
          254.202,
          255.211,
          255.29,
          255.159,
          255.685,
          256.059,
          256.511,
          257.244,
          257.803,
          258.616,
          259.037,
          259.248,
          258.124,
          256.092,
          255.868,
          256.986,
          258.278,
          259.411,
          260.029,
          260.286,
          260.813,
          262.035,
          262.65,
          263.638,
          264.914,
          266.67,
          268.444,
          270.559,
          271.764,
          272.87,
          274.028,
          276.522,
          278.711,
          280.887,
          282.599,
          284.61,
          287.472,
          288.611,
          291.268,
          294.728,
          294.628,
          295.32,
          296.539,
          297.987,
          298.598,
          298.99,
          300.536,
          301.648
         ],
         "yaxis": "y"
        }
       ],
       "layout": {
        "legend": {
         "tracegroupgap": 0
        },
        "template": {
         "data": {
          "bar": [
           {
            "error_x": {
             "color": "#2a3f5f"
            },
            "error_y": {
             "color": "#2a3f5f"
            },
            "marker": {
             "line": {
              "color": "#E5ECF6",
              "width": 0.5
             },
             "pattern": {
              "fillmode": "overlay",
              "size": 10,
              "solidity": 0.2
             }
            },
            "type": "bar"
           }
          ],
          "barpolar": [
           {
            "marker": {
             "line": {
              "color": "#E5ECF6",
              "width": 0.5
             },
             "pattern": {
              "fillmode": "overlay",
              "size": 10,
              "solidity": 0.2
             }
            },
            "type": "barpolar"
           }
          ],
          "carpet": [
           {
            "aaxis": {
             "endlinecolor": "#2a3f5f",
             "gridcolor": "white",
             "linecolor": "white",
             "minorgridcolor": "white",
             "startlinecolor": "#2a3f5f"
            },
            "baxis": {
             "endlinecolor": "#2a3f5f",
             "gridcolor": "white",
             "linecolor": "white",
             "minorgridcolor": "white",
             "startlinecolor": "#2a3f5f"
            },
            "type": "carpet"
           }
          ],
          "choropleth": [
           {
            "colorbar": {
             "outlinewidth": 0,
             "ticks": ""
            },
            "type": "choropleth"
           }
          ],
          "contour": [
           {
            "colorbar": {
             "outlinewidth": 0,
             "ticks": ""
            },
            "colorscale": [
             [
              0,
              "#0d0887"
             ],
             [
              0.1111111111111111,
              "#46039f"
             ],
             [
              0.2222222222222222,
              "#7201a8"
             ],
             [
              0.3333333333333333,
              "#9c179e"
             ],
             [
              0.4444444444444444,
              "#bd3786"
             ],
             [
              0.5555555555555556,
              "#d8576b"
             ],
             [
              0.6666666666666666,
              "#ed7953"
             ],
             [
              0.7777777777777778,
              "#fb9f3a"
             ],
             [
              0.8888888888888888,
              "#fdca26"
             ],
             [
              1,
              "#f0f921"
             ]
            ],
            "type": "contour"
           }
          ],
          "contourcarpet": [
           {
            "colorbar": {
             "outlinewidth": 0,
             "ticks": ""
            },
            "type": "contourcarpet"
           }
          ],
          "heatmap": [
           {
            "colorbar": {
             "outlinewidth": 0,
             "ticks": ""
            },
            "colorscale": [
             [
              0,
              "#0d0887"
             ],
             [
              0.1111111111111111,
              "#46039f"
             ],
             [
              0.2222222222222222,
              "#7201a8"
             ],
             [
              0.3333333333333333,
              "#9c179e"
             ],
             [
              0.4444444444444444,
              "#bd3786"
             ],
             [
              0.5555555555555556,
              "#d8576b"
             ],
             [
              0.6666666666666666,
              "#ed7953"
             ],
             [
              0.7777777777777778,
              "#fb9f3a"
             ],
             [
              0.8888888888888888,
              "#fdca26"
             ],
             [
              1,
              "#f0f921"
             ]
            ],
            "type": "heatmap"
           }
          ],
          "heatmapgl": [
           {
            "colorbar": {
             "outlinewidth": 0,
             "ticks": ""
            },
            "colorscale": [
             [
              0,
              "#0d0887"
             ],
             [
              0.1111111111111111,
              "#46039f"
             ],
             [
              0.2222222222222222,
              "#7201a8"
             ],
             [
              0.3333333333333333,
              "#9c179e"
             ],
             [
              0.4444444444444444,
              "#bd3786"
             ],
             [
              0.5555555555555556,
              "#d8576b"
             ],
             [
              0.6666666666666666,
              "#ed7953"
             ],
             [
              0.7777777777777778,
              "#fb9f3a"
             ],
             [
              0.8888888888888888,
              "#fdca26"
             ],
             [
              1,
              "#f0f921"
             ]
            ],
            "type": "heatmapgl"
           }
          ],
          "histogram": [
           {
            "marker": {
             "pattern": {
              "fillmode": "overlay",
              "size": 10,
              "solidity": 0.2
             }
            },
            "type": "histogram"
           }
          ],
          "histogram2d": [
           {
            "colorbar": {
             "outlinewidth": 0,
             "ticks": ""
            },
            "colorscale": [
             [
              0,
              "#0d0887"
             ],
             [
              0.1111111111111111,
              "#46039f"
             ],
             [
              0.2222222222222222,
              "#7201a8"
             ],
             [
              0.3333333333333333,
              "#9c179e"
             ],
             [
              0.4444444444444444,
              "#bd3786"
             ],
             [
              0.5555555555555556,
              "#d8576b"
             ],
             [
              0.6666666666666666,
              "#ed7953"
             ],
             [
              0.7777777777777778,
              "#fb9f3a"
             ],
             [
              0.8888888888888888,
              "#fdca26"
             ],
             [
              1,
              "#f0f921"
             ]
            ],
            "type": "histogram2d"
           }
          ],
          "histogram2dcontour": [
           {
            "colorbar": {
             "outlinewidth": 0,
             "ticks": ""
            },
            "colorscale": [
             [
              0,
              "#0d0887"
             ],
             [
              0.1111111111111111,
              "#46039f"
             ],
             [
              0.2222222222222222,
              "#7201a8"
             ],
             [
              0.3333333333333333,
              "#9c179e"
             ],
             [
              0.4444444444444444,
              "#bd3786"
             ],
             [
              0.5555555555555556,
              "#d8576b"
             ],
             [
              0.6666666666666666,
              "#ed7953"
             ],
             [
              0.7777777777777778,
              "#fb9f3a"
             ],
             [
              0.8888888888888888,
              "#fdca26"
             ],
             [
              1,
              "#f0f921"
             ]
            ],
            "type": "histogram2dcontour"
           }
          ],
          "mesh3d": [
           {
            "colorbar": {
             "outlinewidth": 0,
             "ticks": ""
            },
            "type": "mesh3d"
           }
          ],
          "parcoords": [
           {
            "line": {
             "colorbar": {
              "outlinewidth": 0,
              "ticks": ""
             }
            },
            "type": "parcoords"
           }
          ],
          "pie": [
           {
            "automargin": true,
            "type": "pie"
           }
          ],
          "scatter": [
           {
            "fillpattern": {
             "fillmode": "overlay",
             "size": 10,
             "solidity": 0.2
            },
            "type": "scatter"
           }
          ],
          "scatter3d": [
           {
            "line": {
             "colorbar": {
              "outlinewidth": 0,
              "ticks": ""
             }
            },
            "marker": {
             "colorbar": {
              "outlinewidth": 0,
              "ticks": ""
             }
            },
            "type": "scatter3d"
           }
          ],
          "scattercarpet": [
           {
            "marker": {
             "colorbar": {
              "outlinewidth": 0,
              "ticks": ""
             }
            },
            "type": "scattercarpet"
           }
          ],
          "scattergeo": [
           {
            "marker": {
             "colorbar": {
              "outlinewidth": 0,
              "ticks": ""
             }
            },
            "type": "scattergeo"
           }
          ],
          "scattergl": [
           {
            "marker": {
             "colorbar": {
              "outlinewidth": 0,
              "ticks": ""
             }
            },
            "type": "scattergl"
           }
          ],
          "scattermapbox": [
           {
            "marker": {
             "colorbar": {
              "outlinewidth": 0,
              "ticks": ""
             }
            },
            "type": "scattermapbox"
           }
          ],
          "scatterpolar": [
           {
            "marker": {
             "colorbar": {
              "outlinewidth": 0,
              "ticks": ""
             }
            },
            "type": "scatterpolar"
           }
          ],
          "scatterpolargl": [
           {
            "marker": {
             "colorbar": {
              "outlinewidth": 0,
              "ticks": ""
             }
            },
            "type": "scatterpolargl"
           }
          ],
          "scatterternary": [
           {
            "marker": {
             "colorbar": {
              "outlinewidth": 0,
              "ticks": ""
             }
            },
            "type": "scatterternary"
           }
          ],
          "surface": [
           {
            "colorbar": {
             "outlinewidth": 0,
             "ticks": ""
            },
            "colorscale": [
             [
              0,
              "#0d0887"
             ],
             [
              0.1111111111111111,
              "#46039f"
             ],
             [
              0.2222222222222222,
              "#7201a8"
             ],
             [
              0.3333333333333333,
              "#9c179e"
             ],
             [
              0.4444444444444444,
              "#bd3786"
             ],
             [
              0.5555555555555556,
              "#d8576b"
             ],
             [
              0.6666666666666666,
              "#ed7953"
             ],
             [
              0.7777777777777778,
              "#fb9f3a"
             ],
             [
              0.8888888888888888,
              "#fdca26"
             ],
             [
              1,
              "#f0f921"
             ]
            ],
            "type": "surface"
           }
          ],
          "table": [
           {
            "cells": {
             "fill": {
              "color": "#EBF0F8"
             },
             "line": {
              "color": "white"
             }
            },
            "header": {
             "fill": {
              "color": "#C8D4E3"
             },
             "line": {
              "color": "white"
             }
            },
            "type": "table"
           }
          ]
         },
         "layout": {
          "annotationdefaults": {
           "arrowcolor": "#2a3f5f",
           "arrowhead": 0,
           "arrowwidth": 1
          },
          "autotypenumbers": "strict",
          "coloraxis": {
           "colorbar": {
            "outlinewidth": 0,
            "ticks": ""
           }
          },
          "colorscale": {
           "diverging": [
            [
             0,
             "#8e0152"
            ],
            [
             0.1,
             "#c51b7d"
            ],
            [
             0.2,
             "#de77ae"
            ],
            [
             0.3,
             "#f1b6da"
            ],
            [
             0.4,
             "#fde0ef"
            ],
            [
             0.5,
             "#f7f7f7"
            ],
            [
             0.6,
             "#e6f5d0"
            ],
            [
             0.7,
             "#b8e186"
            ],
            [
             0.8,
             "#7fbc41"
            ],
            [
             0.9,
             "#4d9221"
            ],
            [
             1,
             "#276419"
            ]
           ],
           "sequential": [
            [
             0,
             "#0d0887"
            ],
            [
             0.1111111111111111,
             "#46039f"
            ],
            [
             0.2222222222222222,
             "#7201a8"
            ],
            [
             0.3333333333333333,
             "#9c179e"
            ],
            [
             0.4444444444444444,
             "#bd3786"
            ],
            [
             0.5555555555555556,
             "#d8576b"
            ],
            [
             0.6666666666666666,
             "#ed7953"
            ],
            [
             0.7777777777777778,
             "#fb9f3a"
            ],
            [
             0.8888888888888888,
             "#fdca26"
            ],
            [
             1,
             "#f0f921"
            ]
           ],
           "sequentialminus": [
            [
             0,
             "#0d0887"
            ],
            [
             0.1111111111111111,
             "#46039f"
            ],
            [
             0.2222222222222222,
             "#7201a8"
            ],
            [
             0.3333333333333333,
             "#9c179e"
            ],
            [
             0.4444444444444444,
             "#bd3786"
            ],
            [
             0.5555555555555556,
             "#d8576b"
            ],
            [
             0.6666666666666666,
             "#ed7953"
            ],
            [
             0.7777777777777778,
             "#fb9f3a"
            ],
            [
             0.8888888888888888,
             "#fdca26"
            ],
            [
             1,
             "#f0f921"
            ]
           ]
          },
          "colorway": [
           "#636efa",
           "#EF553B",
           "#00cc96",
           "#ab63fa",
           "#FFA15A",
           "#19d3f3",
           "#FF6692",
           "#B6E880",
           "#FF97FF",
           "#FECB52"
          ],
          "font": {
           "color": "#2a3f5f"
          },
          "geo": {
           "bgcolor": "white",
           "lakecolor": "white",
           "landcolor": "#E5ECF6",
           "showlakes": true,
           "showland": true,
           "subunitcolor": "white"
          },
          "hoverlabel": {
           "align": "left"
          },
          "hovermode": "closest",
          "mapbox": {
           "style": "light"
          },
          "paper_bgcolor": "white",
          "plot_bgcolor": "#E5ECF6",
          "polar": {
           "angularaxis": {
            "gridcolor": "white",
            "linecolor": "white",
            "ticks": ""
           },
           "bgcolor": "#E5ECF6",
           "radialaxis": {
            "gridcolor": "white",
            "linecolor": "white",
            "ticks": ""
           }
          },
          "scene": {
           "xaxis": {
            "backgroundcolor": "#E5ECF6",
            "gridcolor": "white",
            "gridwidth": 2,
            "linecolor": "white",
            "showbackground": true,
            "ticks": "",
            "zerolinecolor": "white"
           },
           "yaxis": {
            "backgroundcolor": "#E5ECF6",
            "gridcolor": "white",
            "gridwidth": 2,
            "linecolor": "white",
            "showbackground": true,
            "ticks": "",
            "zerolinecolor": "white"
           },
           "zaxis": {
            "backgroundcolor": "#E5ECF6",
            "gridcolor": "white",
            "gridwidth": 2,
            "linecolor": "white",
            "showbackground": true,
            "ticks": "",
            "zerolinecolor": "white"
           }
          },
          "shapedefaults": {
           "line": {
            "color": "#2a3f5f"
           }
          },
          "ternary": {
           "aaxis": {
            "gridcolor": "white",
            "linecolor": "white",
            "ticks": ""
           },
           "baxis": {
            "gridcolor": "white",
            "linecolor": "white",
            "ticks": ""
           },
           "bgcolor": "#E5ECF6",
           "caxis": {
            "gridcolor": "white",
            "linecolor": "white",
            "ticks": ""
           }
          },
          "title": {
           "x": 0.05
          },
          "xaxis": {
           "automargin": true,
           "gridcolor": "white",
           "linecolor": "white",
           "ticks": "",
           "title": {
            "standoff": 15
           },
           "zerolinecolor": "white",
           "zerolinewidth": 2
          },
          "yaxis": {
           "automargin": true,
           "gridcolor": "white",
           "linecolor": "white",
           "ticks": "",
           "title": {
            "standoff": 15
           },
           "zerolinecolor": "white",
           "zerolinewidth": 2
          }
         }
        },
        "title": {
         "text": "CPI Avg. 1990-2022"
        },
        "xaxis": {
         "anchor": "y",
         "domain": [
          0,
          1
         ],
         "title": {
          "text": "index"
         }
        },
        "yaxis": {
         "anchor": "x",
         "domain": [
          0,
          1
         ],
         "title": {
          "text": "values"
         }
        }
       }
      }
     },
     "metadata": {},
     "output_type": "display_data"
    }
   ],
   "source": [
    "fig = px.line(df2, x = 'index', y='values', title='CPI Avg. 1990-2022' )\n",
    "fig.show()\n",
    "\n",
    "#Simple fig graph"
   ]
  },
  {
   "attachments": {},
   "cell_type": "markdown",
   "metadata": {},
   "source": [
    "# Conditions for effecient prophet model"
   ]
  },
  {
   "attachments": {},
   "cell_type": "markdown",
   "metadata": {},
   "source": [
    "### Prophet model is an open source forecasting application developed by the Facebook data science team. It includes procedures that allow making annual, periodic, weekly, and daily forecasts based on nonlinear time series data."
   ]
  },
  {
   "cell_type": "code",
   "execution_count": 22,
   "metadata": {},
   "outputs": [
    {
     "name": "stdout",
     "output_type": "stream",
     "text": [
      "Requirement already satisfied: prophet in /Users/barborostasdemir/opt/anaconda3/lib/python3.9/site-packages (1.1.2)\n",
      "Requirement already satisfied: numpy>=1.15.4 in /Users/barborostasdemir/opt/anaconda3/lib/python3.9/site-packages (from prophet) (1.21.5)\n",
      "Requirement already satisfied: matplotlib>=2.0.0 in /Users/barborostasdemir/opt/anaconda3/lib/python3.9/site-packages (from prophet) (3.5.2)\n",
      "Requirement already satisfied: holidays>=0.14.2 in /Users/barborostasdemir/opt/anaconda3/lib/python3.9/site-packages (from prophet) (0.21.13)\n",
      "Requirement already satisfied: tqdm>=4.36.1 in /Users/barborostasdemir/opt/anaconda3/lib/python3.9/site-packages (from prophet) (4.64.1)\n",
      "Requirement already satisfied: cmdstanpy>=1.0.4 in /Users/barborostasdemir/opt/anaconda3/lib/python3.9/site-packages (from prophet) (1.1.0)\n",
      "Requirement already satisfied: python-dateutil>=2.8.0 in /Users/barborostasdemir/opt/anaconda3/lib/python3.9/site-packages (from prophet) (2.8.2)\n",
      "Requirement already satisfied: convertdate>=2.1.2 in /Users/barborostasdemir/opt/anaconda3/lib/python3.9/site-packages (from prophet) (2.4.0)\n",
      "Requirement already satisfied: LunarCalendar>=0.0.9 in /Users/barborostasdemir/opt/anaconda3/lib/python3.9/site-packages (from prophet) (0.0.9)\n",
      "Requirement already satisfied: pandas>=1.0.4 in /Users/barborostasdemir/opt/anaconda3/lib/python3.9/site-packages (from prophet) (1.4.4)\n",
      "Requirement already satisfied: pymeeus<=1,>=0.3.13 in /Users/barborostasdemir/opt/anaconda3/lib/python3.9/site-packages (from convertdate>=2.1.2->prophet) (0.5.12)\n",
      "Requirement already satisfied: korean-lunar-calendar in /Users/barborostasdemir/opt/anaconda3/lib/python3.9/site-packages (from holidays>=0.14.2->prophet) (0.3.1)\n",
      "Requirement already satisfied: hijri-converter in /Users/barborostasdemir/opt/anaconda3/lib/python3.9/site-packages (from holidays>=0.14.2->prophet) (2.2.4)\n",
      "Requirement already satisfied: pytz in /Users/barborostasdemir/opt/anaconda3/lib/python3.9/site-packages (from LunarCalendar>=0.0.9->prophet) (2022.1)\n",
      "Requirement already satisfied: ephem>=3.7.5.3 in /Users/barborostasdemir/opt/anaconda3/lib/python3.9/site-packages (from LunarCalendar>=0.0.9->prophet) (4.1.4)\n",
      "Requirement already satisfied: pillow>=6.2.0 in /Users/barborostasdemir/opt/anaconda3/lib/python3.9/site-packages (from matplotlib>=2.0.0->prophet) (9.2.0)\n",
      "Requirement already satisfied: pyparsing>=2.2.1 in /Users/barborostasdemir/opt/anaconda3/lib/python3.9/site-packages (from matplotlib>=2.0.0->prophet) (3.0.9)\n",
      "Requirement already satisfied: cycler>=0.10 in /Users/barborostasdemir/opt/anaconda3/lib/python3.9/site-packages (from matplotlib>=2.0.0->prophet) (0.11.0)\n",
      "Requirement already satisfied: kiwisolver>=1.0.1 in /Users/barborostasdemir/opt/anaconda3/lib/python3.9/site-packages (from matplotlib>=2.0.0->prophet) (1.4.2)\n",
      "Requirement already satisfied: packaging>=20.0 in /Users/barborostasdemir/opt/anaconda3/lib/python3.9/site-packages (from matplotlib>=2.0.0->prophet) (21.3)\n",
      "Requirement already satisfied: fonttools>=4.22.0 in /Users/barborostasdemir/opt/anaconda3/lib/python3.9/site-packages (from matplotlib>=2.0.0->prophet) (4.25.0)\n",
      "Requirement already satisfied: six>=1.5 in /Users/barborostasdemir/opt/anaconda3/lib/python3.9/site-packages (from python-dateutil>=2.8.0->prophet) (1.16.0)\n"
     ]
    }
   ],
   "source": [
    "!pip install prophet"
   ]
  },
  {
   "cell_type": "code",
   "execution_count": 23,
   "metadata": {},
   "outputs": [],
   "source": [
    "from prophet import Prophet"
   ]
  },
  {
   "cell_type": "code",
   "execution_count": 27,
   "metadata": {},
   "outputs": [
    {
     "data": {
      "text/html": [
       "<div>\n",
       "<style scoped>\n",
       "    .dataframe tbody tr th:only-of-type {\n",
       "        vertical-align: middle;\n",
       "    }\n",
       "\n",
       "    .dataframe tbody tr th {\n",
       "        vertical-align: top;\n",
       "    }\n",
       "\n",
       "    .dataframe thead th {\n",
       "        text-align: right;\n",
       "    }\n",
       "</style>\n",
       "<table border=\"1\" class=\"dataframe\">\n",
       "  <thead>\n",
       "    <tr style=\"text-align: right;\">\n",
       "      <th></th>\n",
       "      <th>ds</th>\n",
       "      <th>y</th>\n",
       "    </tr>\n",
       "  </thead>\n",
       "  <tbody>\n",
       "    <tr>\n",
       "      <th>276</th>\n",
       "      <td>1970-01-01</td>\n",
       "      <td>37.900</td>\n",
       "    </tr>\n",
       "    <tr>\n",
       "      <th>277</th>\n",
       "      <td>1970-02-01</td>\n",
       "      <td>38.100</td>\n",
       "    </tr>\n",
       "    <tr>\n",
       "      <th>278</th>\n",
       "      <td>1970-03-01</td>\n",
       "      <td>38.300</td>\n",
       "    </tr>\n",
       "    <tr>\n",
       "      <th>279</th>\n",
       "      <td>1970-04-01</td>\n",
       "      <td>38.500</td>\n",
       "    </tr>\n",
       "    <tr>\n",
       "      <th>280</th>\n",
       "      <td>1970-05-01</td>\n",
       "      <td>38.600</td>\n",
       "    </tr>\n",
       "    <tr>\n",
       "      <th>...</th>\n",
       "      <td>...</td>\n",
       "      <td>...</td>\n",
       "    </tr>\n",
       "    <tr>\n",
       "      <th>909</th>\n",
       "      <td>2022-10-01</td>\n",
       "      <td>297.987</td>\n",
       "    </tr>\n",
       "    <tr>\n",
       "      <th>910</th>\n",
       "      <td>2022-11-01</td>\n",
       "      <td>298.598</td>\n",
       "    </tr>\n",
       "    <tr>\n",
       "      <th>911</th>\n",
       "      <td>2022-12-01</td>\n",
       "      <td>298.990</td>\n",
       "    </tr>\n",
       "    <tr>\n",
       "      <th>912</th>\n",
       "      <td>2023-01-01</td>\n",
       "      <td>300.536</td>\n",
       "    </tr>\n",
       "    <tr>\n",
       "      <th>913</th>\n",
       "      <td>2023-02-01</td>\n",
       "      <td>301.648</td>\n",
       "    </tr>\n",
       "  </tbody>\n",
       "</table>\n",
       "<p>638 rows × 2 columns</p>\n",
       "</div>"
      ],
      "text/plain": [
       "            ds        y\n",
       "276 1970-01-01   37.900\n",
       "277 1970-02-01   38.100\n",
       "278 1970-03-01   38.300\n",
       "279 1970-04-01   38.500\n",
       "280 1970-05-01   38.600\n",
       "..         ...      ...\n",
       "909 2022-10-01  297.987\n",
       "910 2022-11-01  298.598\n",
       "911 2022-12-01  298.990\n",
       "912 2023-01-01  300.536\n",
       "913 2023-02-01  301.648\n",
       "\n",
       "[638 rows x 2 columns]"
      ]
     },
     "execution_count": 27,
     "metadata": {},
     "output_type": "execute_result"
    }
   ],
   "source": [
    "df2 = df2.rename(columns={'index':'ds','values':'y'})\n",
    "df2"
   ]
  },
  {
   "cell_type": "code",
   "execution_count": 30,
   "metadata": {},
   "outputs": [
    {
     "name": "stderr",
     "output_type": "stream",
     "text": [
      "18:33:59 - cmdstanpy - INFO - Chain [1] start processing\n",
      "18:34:00 - cmdstanpy - INFO - Chain [1] done processing\n"
     ]
    },
    {
     "data": {
      "text/plain": [
       "<prophet.forecaster.Prophet at 0x7fee86acbf70>"
      ]
     },
     "execution_count": 30,
     "metadata": {},
     "output_type": "execute_result"
    }
   ],
   "source": [
    "ml =Prophet()\n",
    "ml.fit(df2)"
   ]
  },
  {
   "cell_type": "code",
   "execution_count": 31,
   "metadata": {},
   "outputs": [],
   "source": [
    "future =ml.make_future_dataframe(periods=10, )  #weekly 'W'"
   ]
  },
  {
   "cell_type": "code",
   "execution_count": 34,
   "metadata": {},
   "outputs": [
    {
     "data": {
      "text/html": [
       "<div>\n",
       "<style scoped>\n",
       "    .dataframe tbody tr th:only-of-type {\n",
       "        vertical-align: middle;\n",
       "    }\n",
       "\n",
       "    .dataframe tbody tr th {\n",
       "        vertical-align: top;\n",
       "    }\n",
       "\n",
       "    .dataframe thead th {\n",
       "        text-align: right;\n",
       "    }\n",
       "</style>\n",
       "<table border=\"1\" class=\"dataframe\">\n",
       "  <thead>\n",
       "    <tr style=\"text-align: right;\">\n",
       "      <th></th>\n",
       "      <th>ds</th>\n",
       "    </tr>\n",
       "  </thead>\n",
       "  <tbody>\n",
       "    <tr>\n",
       "      <th>643</th>\n",
       "      <td>2023-02-07</td>\n",
       "    </tr>\n",
       "    <tr>\n",
       "      <th>644</th>\n",
       "      <td>2023-02-08</td>\n",
       "    </tr>\n",
       "    <tr>\n",
       "      <th>645</th>\n",
       "      <td>2023-02-09</td>\n",
       "    </tr>\n",
       "    <tr>\n",
       "      <th>646</th>\n",
       "      <td>2023-02-10</td>\n",
       "    </tr>\n",
       "    <tr>\n",
       "      <th>647</th>\n",
       "      <td>2023-02-11</td>\n",
       "    </tr>\n",
       "  </tbody>\n",
       "</table>\n",
       "</div>"
      ],
      "text/plain": [
       "            ds\n",
       "643 2023-02-07\n",
       "644 2023-02-08\n",
       "645 2023-02-09\n",
       "646 2023-02-10\n",
       "647 2023-02-11"
      ]
     },
     "execution_count": 34,
     "metadata": {},
     "output_type": "execute_result"
    }
   ],
   "source": [
    "future.tail()"
   ]
  },
  {
   "cell_type": "code",
   "execution_count": 37,
   "metadata": {},
   "outputs": [],
   "source": [
    "future =ml.make_future_dataframe(periods=10, freq ='MS' )  #weekly 'W'"
   ]
  },
  {
   "cell_type": "code",
   "execution_count": 38,
   "metadata": {},
   "outputs": [
    {
     "data": {
      "text/html": [
       "<div>\n",
       "<style scoped>\n",
       "    .dataframe tbody tr th:only-of-type {\n",
       "        vertical-align: middle;\n",
       "    }\n",
       "\n",
       "    .dataframe tbody tr th {\n",
       "        vertical-align: top;\n",
       "    }\n",
       "\n",
       "    .dataframe thead th {\n",
       "        text-align: right;\n",
       "    }\n",
       "</style>\n",
       "<table border=\"1\" class=\"dataframe\">\n",
       "  <thead>\n",
       "    <tr style=\"text-align: right;\">\n",
       "      <th></th>\n",
       "      <th>ds</th>\n",
       "    </tr>\n",
       "  </thead>\n",
       "  <tbody>\n",
       "    <tr>\n",
       "      <th>643</th>\n",
       "      <td>2023-08-01</td>\n",
       "    </tr>\n",
       "    <tr>\n",
       "      <th>644</th>\n",
       "      <td>2023-09-01</td>\n",
       "    </tr>\n",
       "    <tr>\n",
       "      <th>645</th>\n",
       "      <td>2023-10-01</td>\n",
       "    </tr>\n",
       "    <tr>\n",
       "      <th>646</th>\n",
       "      <td>2023-11-01</td>\n",
       "    </tr>\n",
       "    <tr>\n",
       "      <th>647</th>\n",
       "      <td>2023-12-01</td>\n",
       "    </tr>\n",
       "  </tbody>\n",
       "</table>\n",
       "</div>"
      ],
      "text/plain": [
       "            ds\n",
       "643 2023-08-01\n",
       "644 2023-09-01\n",
       "645 2023-10-01\n",
       "646 2023-11-01\n",
       "647 2023-12-01"
      ]
     },
     "execution_count": 38,
     "metadata": {},
     "output_type": "execute_result"
    }
   ],
   "source": [
    "future.tail()"
   ]
  },
  {
   "cell_type": "code",
   "execution_count": 41,
   "metadata": {},
   "outputs": [
    {
     "data": {
      "text/html": [
       "<div>\n",
       "<style scoped>\n",
       "    .dataframe tbody tr th:only-of-type {\n",
       "        vertical-align: middle;\n",
       "    }\n",
       "\n",
       "    .dataframe tbody tr th {\n",
       "        vertical-align: top;\n",
       "    }\n",
       "\n",
       "    .dataframe thead th {\n",
       "        text-align: right;\n",
       "    }\n",
       "</style>\n",
       "<table border=\"1\" class=\"dataframe\">\n",
       "  <thead>\n",
       "    <tr style=\"text-align: right;\">\n",
       "      <th></th>\n",
       "      <th>ds</th>\n",
       "      <th>yhat</th>\n",
       "      <th>yhat_lower</th>\n",
       "      <th>yhat_upper</th>\n",
       "    </tr>\n",
       "  </thead>\n",
       "  <tbody>\n",
       "    <tr>\n",
       "      <th>0</th>\n",
       "      <td>1970-01-01</td>\n",
       "      <td>36.192681</td>\n",
       "      <td>31.937161</td>\n",
       "      <td>41.129432</td>\n",
       "    </tr>\n",
       "    <tr>\n",
       "      <th>1</th>\n",
       "      <td>1970-02-01</td>\n",
       "      <td>36.536481</td>\n",
       "      <td>32.067086</td>\n",
       "      <td>41.074494</td>\n",
       "    </tr>\n",
       "    <tr>\n",
       "      <th>2</th>\n",
       "      <td>1970-03-01</td>\n",
       "      <td>36.320964</td>\n",
       "      <td>31.689046</td>\n",
       "      <td>40.509959</td>\n",
       "    </tr>\n",
       "    <tr>\n",
       "      <th>3</th>\n",
       "      <td>1970-04-01</td>\n",
       "      <td>36.604328</td>\n",
       "      <td>32.110618</td>\n",
       "      <td>41.041098</td>\n",
       "    </tr>\n",
       "    <tr>\n",
       "      <th>4</th>\n",
       "      <td>1970-05-01</td>\n",
       "      <td>36.892706</td>\n",
       "      <td>32.224785</td>\n",
       "      <td>41.400355</td>\n",
       "    </tr>\n",
       "    <tr>\n",
       "      <th>...</th>\n",
       "      <td>...</td>\n",
       "      <td>...</td>\n",
       "      <td>...</td>\n",
       "      <td>...</td>\n",
       "    </tr>\n",
       "    <tr>\n",
       "      <th>643</th>\n",
       "      <td>2023-08-01</td>\n",
       "      <td>283.030384</td>\n",
       "      <td>278.401792</td>\n",
       "      <td>287.812873</td>\n",
       "    </tr>\n",
       "    <tr>\n",
       "      <th>644</th>\n",
       "      <td>2023-09-01</td>\n",
       "      <td>283.456961</td>\n",
       "      <td>279.149912</td>\n",
       "      <td>287.952543</td>\n",
       "    </tr>\n",
       "    <tr>\n",
       "      <th>645</th>\n",
       "      <td>2023-10-01</td>\n",
       "      <td>283.890211</td>\n",
       "      <td>279.092755</td>\n",
       "      <td>288.277503</td>\n",
       "    </tr>\n",
       "    <tr>\n",
       "      <th>646</th>\n",
       "      <td>2023-11-01</td>\n",
       "      <td>284.387104</td>\n",
       "      <td>280.161497</td>\n",
       "      <td>288.767341</td>\n",
       "    </tr>\n",
       "    <tr>\n",
       "      <th>647</th>\n",
       "      <td>2023-12-01</td>\n",
       "      <td>284.798544</td>\n",
       "      <td>280.116938</td>\n",
       "      <td>289.450781</td>\n",
       "    </tr>\n",
       "  </tbody>\n",
       "</table>\n",
       "<p>648 rows × 4 columns</p>\n",
       "</div>"
      ],
      "text/plain": [
       "            ds        yhat  yhat_lower  yhat_upper\n",
       "0   1970-01-01   36.192681   31.937161   41.129432\n",
       "1   1970-02-01   36.536481   32.067086   41.074494\n",
       "2   1970-03-01   36.320964   31.689046   40.509959\n",
       "3   1970-04-01   36.604328   32.110618   41.041098\n",
       "4   1970-05-01   36.892706   32.224785   41.400355\n",
       "..         ...         ...         ...         ...\n",
       "643 2023-08-01  283.030384  278.401792  287.812873\n",
       "644 2023-09-01  283.456961  279.149912  287.952543\n",
       "645 2023-10-01  283.890211  279.092755  288.277503\n",
       "646 2023-11-01  284.387104  280.161497  288.767341\n",
       "647 2023-12-01  284.798544  280.116938  289.450781\n",
       "\n",
       "[648 rows x 4 columns]"
      ]
     },
     "execution_count": 41,
     "metadata": {},
     "output_type": "execute_result"
    }
   ],
   "source": [
    "result = ml.predict(future)\n",
    "result[['ds','yhat','yhat_lower','yhat_upper']]"
   ]
  },
  {
   "cell_type": "code",
   "execution_count": 42,
   "metadata": {},
   "outputs": [
    {
     "data": {
      "image/png": "[encoded data removed]",
      "text/plain": [
       "<Figure size 1000x600 with 1 Axes>"
      ]
     },
     "metadata": {},
     "output_type": "display_data"
    }
   ],
   "source": [
    "fig = ml.plot(result)"
   ]
  },
  {
   "cell_type": "code",
   "execution_count": 43,
   "metadata": {},
   "outputs": [
    {
     "data": {
      "image/png": "[encoded data removed]",
      "text/plain": [
       "<Figure size 900x600 with 2 Axes>"
      ]
     },
     "metadata": {},
     "output_type": "display_data"
    }
   ],
   "source": [
    "fig2 = ml.plot_components(result)"
   ]
  },
  {
   "cell_type": "code",
   "execution_count": 44,
   "metadata": {},
   "outputs": [
    {
     "data": {
      "application/vnd.jupyter.widget-view+json": {
       "model_id": "1886f035b84d47c3839b9a55f6e031ab",
       "version_major": 2,
       "version_minor": 0
      },
      "text/plain": [
       "  0%|          | 0/119 [00:00<?, ?it/s]"
      ]
     },
     "metadata": {},
     "output_type": "display_data"
    },
    {
     "name": "stderr",
     "output_type": "stream",
     "text": [
      "19:01:50 - cmdstanpy - INFO - Chain [1] start processing\n",
      "19:01:51 - cmdstanpy - INFO - Chain [1] done processing\n",
      "19:01:51 - cmdstanpy - INFO - Chain [1] start processing\n",
      "19:01:52 - cmdstanpy - INFO - Chain [1] done processing\n",
      "19:01:52 - cmdstanpy - INFO - Chain [1] start processing\n",
      "19:01:52 - cmdstanpy - INFO - Chain [1] done processing\n",
      "19:01:52 - cmdstanpy - INFO - Chain [1] start processing\n",
      "19:01:53 - cmdstanpy - INFO - Chain [1] done processing\n",
      "19:01:53 - cmdstanpy - INFO - Chain [1] start processing\n",
      "19:01:54 - cmdstanpy - INFO - Chain [1] done processing\n",
      "19:01:54 - cmdstanpy - INFO - Chain [1] start processing\n",
      "19:01:55 - cmdstanpy - INFO - Chain [1] done processing\n",
      "19:01:55 - cmdstanpy - INFO - Chain [1] start processing\n",
      "19:01:55 - cmdstanpy - INFO - Chain [1] done processing\n",
      "19:01:55 - cmdstanpy - INFO - Chain [1] start processing\n",
      "19:01:56 - cmdstanpy - INFO - Chain [1] done processing\n",
      "19:01:56 - cmdstanpy - INFO - Chain [1] start processing\n",
      "19:01:57 - cmdstanpy - INFO - Chain [1] done processing\n",
      "19:01:57 - cmdstanpy - INFO - Chain [1] start processing\n",
      "19:01:58 - cmdstanpy - INFO - Chain [1] done processing\n",
      "19:01:59 - cmdstanpy - INFO - Chain [1] start processing\n",
      "19:02:00 - cmdstanpy - INFO - Chain [1] done processing\n",
      "19:02:00 - cmdstanpy - INFO - Chain [1] start processing\n",
      "19:02:01 - cmdstanpy - INFO - Chain [1] done processing\n",
      "19:02:01 - cmdstanpy - INFO - Chain [1] start processing\n",
      "19:02:01 - cmdstanpy - INFO - Chain [1] done processing\n",
      "19:02:01 - cmdstanpy - INFO - Chain [1] start processing\n",
      "19:02:01 - cmdstanpy - INFO - Chain [1] done processing\n",
      "19:02:01 - cmdstanpy - INFO - Chain [1] start processing\n",
      "19:02:01 - cmdstanpy - INFO - Chain [1] done processing\n",
      "19:02:01 - cmdstanpy - INFO - Chain [1] start processing\n",
      "19:02:02 - cmdstanpy - INFO - Chain [1] done processing\n",
      "19:02:02 - cmdstanpy - INFO - Chain [1] start processing\n",
      "19:02:02 - cmdstanpy - INFO - Chain [1] done processing\n",
      "19:02:02 - cmdstanpy - INFO - Chain [1] start processing\n",
      "19:02:02 - cmdstanpy - INFO - Chain [1] done processing\n",
      "19:02:02 - cmdstanpy - INFO - Chain [1] start processing\n",
      "19:02:02 - cmdstanpy - INFO - Chain [1] done processing\n",
      "19:02:02 - cmdstanpy - INFO - Chain [1] start processing\n",
      "19:02:03 - cmdstanpy - INFO - Chain [1] done processing\n",
      "19:02:03 - cmdstanpy - INFO - Chain [1] start processing\n",
      "19:02:03 - cmdstanpy - INFO - Chain [1] done processing\n",
      "19:02:03 - cmdstanpy - INFO - Chain [1] start processing\n",
      "19:02:03 - cmdstanpy - INFO - Chain [1] done processing\n",
      "19:02:03 - cmdstanpy - INFO - Chain [1] start processing\n",
      "19:02:03 - cmdstanpy - INFO - Chain [1] done processing\n",
      "19:02:03 - cmdstanpy - INFO - Chain [1] start processing\n",
      "19:02:03 - cmdstanpy - INFO - Chain [1] done processing\n",
      "19:02:04 - cmdstanpy - INFO - Chain [1] start processing\n",
      "19:02:04 - cmdstanpy - INFO - Chain [1] done processing\n",
      "19:02:04 - cmdstanpy - INFO - Chain [1] start processing\n",
      "19:02:04 - cmdstanpy - INFO - Chain [1] done processing\n",
      "19:02:04 - cmdstanpy - INFO - Chain [1] start processing\n",
      "19:02:04 - cmdstanpy - INFO - Chain [1] done processing\n",
      "19:02:04 - cmdstanpy - INFO - Chain [1] start processing\n",
      "19:02:04 - cmdstanpy - INFO - Chain [1] done processing\n",
      "19:02:04 - cmdstanpy - INFO - Chain [1] start processing\n",
      "19:02:05 - cmdstanpy - INFO - Chain [1] done processing\n",
      "19:02:05 - cmdstanpy - INFO - Chain [1] start processing\n",
      "19:02:05 - cmdstanpy - INFO - Chain [1] done processing\n",
      "19:02:05 - cmdstanpy - INFO - Chain [1] start processing\n",
      "19:02:05 - cmdstanpy - INFO - Chain [1] done processing\n",
      "19:02:05 - cmdstanpy - INFO - Chain [1] start processing\n",
      "19:02:06 - cmdstanpy - INFO - Chain [1] done processing\n",
      "19:02:06 - cmdstanpy - INFO - Chain [1] start processing\n",
      "19:02:06 - cmdstanpy - INFO - Chain [1] done processing\n",
      "19:02:06 - cmdstanpy - INFO - Chain [1] start processing\n",
      "19:02:06 - cmdstanpy - INFO - Chain [1] done processing\n",
      "19:02:06 - cmdstanpy - INFO - Chain [1] start processing\n",
      "19:02:07 - cmdstanpy - INFO - Chain [1] done processing\n",
      "19:02:07 - cmdstanpy - INFO - Chain [1] start processing\n",
      "19:02:07 - cmdstanpy - INFO - Chain [1] done processing\n",
      "19:02:07 - cmdstanpy - INFO - Chain [1] start processing\n",
      "19:02:07 - cmdstanpy - INFO - Chain [1] done processing\n",
      "19:02:07 - cmdstanpy - INFO - Chain [1] start processing\n",
      "19:02:07 - cmdstanpy - INFO - Chain [1] done processing\n",
      "19:02:07 - cmdstanpy - INFO - Chain [1] start processing\n",
      "19:02:08 - cmdstanpy - INFO - Chain [1] done processing\n",
      "19:02:08 - cmdstanpy - INFO - Chain [1] start processing\n",
      "19:02:08 - cmdstanpy - INFO - Chain [1] done processing\n",
      "19:02:08 - cmdstanpy - INFO - Chain [1] start processing\n",
      "19:02:08 - cmdstanpy - INFO - Chain [1] done processing\n",
      "19:02:08 - cmdstanpy - INFO - Chain [1] start processing\n",
      "19:02:09 - cmdstanpy - INFO - Chain [1] done processing\n",
      "19:02:09 - cmdstanpy - INFO - Chain [1] start processing\n",
      "19:02:09 - cmdstanpy - INFO - Chain [1] done processing\n",
      "19:02:09 - cmdstanpy - INFO - Chain [1] start processing\n",
      "19:02:09 - cmdstanpy - INFO - Chain [1] done processing\n",
      "19:02:09 - cmdstanpy - INFO - Chain [1] start processing\n",
      "19:02:10 - cmdstanpy - INFO - Chain [1] done processing\n",
      "19:02:10 - cmdstanpy - INFO - Chain [1] start processing\n",
      "19:02:10 - cmdstanpy - INFO - Chain [1] done processing\n",
      "19:02:10 - cmdstanpy - INFO - Chain [1] start processing\n",
      "19:02:10 - cmdstanpy - INFO - Chain [1] done processing\n",
      "19:02:10 - cmdstanpy - INFO - Chain [1] start processing\n",
      "19:02:11 - cmdstanpy - INFO - Chain [1] done processing\n",
      "19:02:11 - cmdstanpy - INFO - Chain [1] start processing\n",
      "19:02:11 - cmdstanpy - INFO - Chain [1] done processing\n",
      "19:02:11 - cmdstanpy - INFO - Chain [1] start processing\n",
      "19:02:11 - cmdstanpy - INFO - Chain [1] done processing\n",
      "19:02:12 - cmdstanpy - INFO - Chain [1] start processing\n",
      "19:02:12 - cmdstanpy - INFO - Chain [1] done processing\n",
      "19:02:12 - cmdstanpy - INFO - Chain [1] start processing\n",
      "19:02:12 - cmdstanpy - INFO - Chain [1] done processing\n",
      "19:02:12 - cmdstanpy - INFO - Chain [1] start processing\n",
      "19:02:13 - cmdstanpy - INFO - Chain [1] done processing\n",
      "19:02:13 - cmdstanpy - INFO - Chain [1] start processing\n",
      "19:02:13 - cmdstanpy - INFO - Chain [1] done processing\n",
      "19:02:13 - cmdstanpy - INFO - Chain [1] start processing\n",
      "19:02:13 - cmdstanpy - INFO - Chain [1] done processing\n",
      "19:02:13 - cmdstanpy - INFO - Chain [1] start processing\n",
      "19:02:14 - cmdstanpy - INFO - Chain [1] done processing\n",
      "19:02:14 - cmdstanpy - INFO - Chain [1] start processing\n",
      "19:02:14 - cmdstanpy - INFO - Chain [1] done processing\n",
      "19:02:15 - cmdstanpy - INFO - Chain [1] start processing\n",
      "19:02:15 - cmdstanpy - INFO - Chain [1] done processing\n",
      "19:02:15 - cmdstanpy - INFO - Chain [1] start processing\n",
      "19:02:15 - cmdstanpy - INFO - Chain [1] done processing\n",
      "19:02:15 - cmdstanpy - INFO - Chain [1] start processing\n",
      "19:02:16 - cmdstanpy - INFO - Chain [1] done processing\n",
      "19:02:16 - cmdstanpy - INFO - Chain [1] start processing\n",
      "19:02:16 - cmdstanpy - INFO - Chain [1] done processing\n",
      "19:02:16 - cmdstanpy - INFO - Chain [1] start processing\n",
      "19:02:17 - cmdstanpy - INFO - Chain [1] done processing\n",
      "19:02:17 - cmdstanpy - INFO - Chain [1] start processing\n",
      "19:02:17 - cmdstanpy - INFO - Chain [1] done processing\n",
      "19:02:17 - cmdstanpy - INFO - Chain [1] start processing\n",
      "19:02:18 - cmdstanpy - INFO - Chain [1] done processing\n",
      "19:02:18 - cmdstanpy - INFO - Chain [1] start processing\n",
      "19:02:18 - cmdstanpy - INFO - Chain [1] done processing\n",
      "19:02:18 - cmdstanpy - INFO - Chain [1] start processing\n",
      "19:02:19 - cmdstanpy - INFO - Chain [1] done processing\n",
      "19:02:19 - cmdstanpy - INFO - Chain [1] start processing\n",
      "19:02:19 - cmdstanpy - INFO - Chain [1] done processing\n",
      "19:02:19 - cmdstanpy - INFO - Chain [1] start processing\n",
      "19:02:20 - cmdstanpy - INFO - Chain [1] done processing\n",
      "19:02:20 - cmdstanpy - INFO - Chain [1] start processing\n",
      "19:02:20 - cmdstanpy - INFO - Chain [1] done processing\n",
      "19:02:20 - cmdstanpy - INFO - Chain [1] start processing\n",
      "19:02:21 - cmdstanpy - INFO - Chain [1] done processing\n",
      "19:02:21 - cmdstanpy - INFO - Chain [1] start processing\n",
      "19:02:21 - cmdstanpy - INFO - Chain [1] done processing\n",
      "19:02:21 - cmdstanpy - INFO - Chain [1] start processing\n",
      "19:02:22 - cmdstanpy - INFO - Chain [1] done processing\n",
      "19:02:22 - cmdstanpy - INFO - Chain [1] start processing\n",
      "19:02:22 - cmdstanpy - INFO - Chain [1] done processing\n",
      "19:02:22 - cmdstanpy - INFO - Chain [1] start processing\n",
      "19:02:23 - cmdstanpy - INFO - Chain [1] done processing\n",
      "19:02:23 - cmdstanpy - INFO - Chain [1] start processing\n",
      "19:02:23 - cmdstanpy - INFO - Chain [1] done processing\n",
      "19:02:23 - cmdstanpy - INFO - Chain [1] start processing\n",
      "19:02:24 - cmdstanpy - INFO - Chain [1] done processing\n",
      "19:02:24 - cmdstanpy - INFO - Chain [1] start processing\n",
      "19:02:24 - cmdstanpy - INFO - Chain [1] done processing\n",
      "19:02:24 - cmdstanpy - INFO - Chain [1] start processing\n",
      "19:02:25 - cmdstanpy - INFO - Chain [1] done processing\n",
      "19:02:25 - cmdstanpy - INFO - Chain [1] start processing\n",
      "19:02:25 - cmdstanpy - INFO - Chain [1] done processing\n",
      "19:02:25 - cmdstanpy - INFO - Chain [1] start processing\n",
      "19:02:26 - cmdstanpy - INFO - Chain [1] done processing\n",
      "19:02:26 - cmdstanpy - INFO - Chain [1] start processing\n",
      "19:02:26 - cmdstanpy - INFO - Chain [1] done processing\n",
      "19:02:27 - cmdstanpy - INFO - Chain [1] start processing\n",
      "19:02:27 - cmdstanpy - INFO - Chain [1] done processing\n",
      "19:02:27 - cmdstanpy - INFO - Chain [1] start processing\n",
      "19:02:28 - cmdstanpy - INFO - Chain [1] done processing\n",
      "19:02:28 - cmdstanpy - INFO - Chain [1] start processing\n",
      "19:02:28 - cmdstanpy - INFO - Chain [1] done processing\n",
      "19:02:28 - cmdstanpy - INFO - Chain [1] start processing\n",
      "19:02:29 - cmdstanpy - INFO - Chain [1] done processing\n",
      "19:02:29 - cmdstanpy - INFO - Chain [1] start processing\n",
      "19:02:29 - cmdstanpy - INFO - Chain [1] done processing\n",
      "19:02:29 - cmdstanpy - INFO - Chain [1] start processing\n",
      "19:02:30 - cmdstanpy - INFO - Chain [1] done processing\n",
      "19:02:30 - cmdstanpy - INFO - Chain [1] start processing\n",
      "19:02:30 - cmdstanpy - INFO - Chain [1] done processing\n",
      "19:02:30 - cmdstanpy - INFO - Chain [1] start processing\n",
      "19:02:31 - cmdstanpy - INFO - Chain [1] done processing\n",
      "19:02:31 - cmdstanpy - INFO - Chain [1] start processing\n",
      "19:02:31 - cmdstanpy - INFO - Chain [1] done processing\n",
      "19:02:32 - cmdstanpy - INFO - Chain [1] start processing\n",
      "19:02:32 - cmdstanpy - INFO - Chain [1] done processing\n",
      "19:02:32 - cmdstanpy - INFO - Chain [1] start processing\n",
      "19:02:33 - cmdstanpy - INFO - Chain [1] done processing\n",
      "19:02:33 - cmdstanpy - INFO - Chain [1] start processing\n",
      "19:02:34 - cmdstanpy - INFO - Chain [1] done processing\n",
      "19:02:34 - cmdstanpy - INFO - Chain [1] start processing\n",
      "19:02:34 - cmdstanpy - INFO - Chain [1] done processing\n",
      "19:02:35 - cmdstanpy - INFO - Chain [1] start processing\n",
      "19:02:35 - cmdstanpy - INFO - Chain [1] done processing\n",
      "19:02:35 - cmdstanpy - INFO - Chain [1] start processing\n",
      "19:02:35 - cmdstanpy - INFO - Chain [1] done processing\n",
      "19:02:36 - cmdstanpy - INFO - Chain [1] start processing\n",
      "19:02:36 - cmdstanpy - INFO - Chain [1] done processing\n",
      "19:02:36 - cmdstanpy - INFO - Chain [1] start processing\n",
      "19:02:36 - cmdstanpy - INFO - Chain [1] done processing\n",
      "19:02:36 - cmdstanpy - INFO - Chain [1] start processing\n",
      "19:02:37 - cmdstanpy - INFO - Chain [1] done processing\n",
      "19:02:37 - cmdstanpy - INFO - Chain [1] start processing\n",
      "19:02:37 - cmdstanpy - INFO - Chain [1] done processing\n",
      "19:02:38 - cmdstanpy - INFO - Chain [1] start processing\n",
      "19:02:38 - cmdstanpy - INFO - Chain [1] done processing\n",
      "19:02:38 - cmdstanpy - INFO - Chain [1] start processing\n",
      "19:02:39 - cmdstanpy - INFO - Chain [1] done processing\n",
      "19:02:39 - cmdstanpy - INFO - Chain [1] start processing\n",
      "19:02:40 - cmdstanpy - INFO - Chain [1] done processing\n",
      "19:02:40 - cmdstanpy - INFO - Chain [1] start processing\n",
      "19:02:40 - cmdstanpy - INFO - Chain [1] done processing\n",
      "19:02:40 - cmdstanpy - INFO - Chain [1] start processing\n",
      "19:02:41 - cmdstanpy - INFO - Chain [1] done processing\n",
      "19:02:41 - cmdstanpy - INFO - Chain [1] start processing\n",
      "19:02:42 - cmdstanpy - INFO - Chain [1] done processing\n",
      "19:02:42 - cmdstanpy - INFO - Chain [1] start processing\n",
      "19:02:42 - cmdstanpy - INFO - Chain [1] done processing\n",
      "19:02:43 - cmdstanpy - INFO - Chain [1] start processing\n",
      "19:02:43 - cmdstanpy - INFO - Chain [1] done processing\n",
      "19:02:43 - cmdstanpy - INFO - Chain [1] start processing\n",
      "19:02:44 - cmdstanpy - INFO - Chain [1] done processing\n",
      "19:02:44 - cmdstanpy - INFO - Chain [1] start processing\n",
      "19:02:44 - cmdstanpy - INFO - Chain [1] done processing\n",
      "19:02:44 - cmdstanpy - INFO - Chain [1] start processing\n",
      "19:02:45 - cmdstanpy - INFO - Chain [1] done processing\n",
      "19:02:45 - cmdstanpy - INFO - Chain [1] start processing\n",
      "19:02:45 - cmdstanpy - INFO - Chain [1] done processing\n",
      "19:02:45 - cmdstanpy - INFO - Chain [1] start processing\n",
      "19:02:46 - cmdstanpy - INFO - Chain [1] done processing\n",
      "19:02:46 - cmdstanpy - INFO - Chain [1] start processing\n",
      "19:02:47 - cmdstanpy - INFO - Chain [1] done processing\n",
      "19:02:47 - cmdstanpy - INFO - Chain [1] start processing\n",
      "19:02:47 - cmdstanpy - INFO - Chain [1] done processing\n",
      "19:02:48 - cmdstanpy - INFO - Chain [1] start processing\n",
      "19:02:48 - cmdstanpy - INFO - Chain [1] done processing\n",
      "19:02:48 - cmdstanpy - INFO - Chain [1] start processing\n",
      "19:02:49 - cmdstanpy - INFO - Chain [1] done processing\n",
      "19:02:49 - cmdstanpy - INFO - Chain [1] start processing\n",
      "19:02:50 - cmdstanpy - INFO - Chain [1] done processing\n",
      "19:02:50 - cmdstanpy - INFO - Chain [1] start processing\n",
      "19:02:50 - cmdstanpy - INFO - Chain [1] done processing\n"
     ]
    }
   ],
   "source": [
    "from prophet.diagnostics import cross_validation,performance_metrics\n",
    "\n",
    "cv_results = cross_validation(model=ml,initial=pd.to_timedelta(30*40, unit='D'), period=pd.to_timedelta(30*5, unit='D'),horizon=pd.to_timedelta(30*12, unit='D'))\n",
    "df_p =performance_metrics(cv_results)"
   ]
  },
  {
   "cell_type": "code",
   "execution_count": 46,
   "metadata": {},
   "outputs": [
    {
     "data": {
      "image/png": "[encoded data removed]",
      "text/plain": [
       "<Figure size 1000x600 with 1 Axes>"
      ]
     },
     "metadata": {},
     "output_type": "display_data"
    }
   ],
   "source": [
    "from prophet.plot import plot_cross_validation_metric\n",
    "fig = plot_cross_validation_metric(cv_results,metric ='rmse')"
   ]
  },
  {
   "cell_type": "code",
   "execution_count": null,
   "metadata": {},
   "outputs": [],
   "source": []
  }
 ],
 "metadata": {
  "kernelspec": {
   "display_name": "base",
   "language": "python",
   "name": "python3"
  },
  "language_info": {
   "codemirror_mode": {
    "name": "ipython",
    "version": 3
   },
   "file_extension": ".py",
   "mimetype": "text/x-python",
   "name": "python",
   "nbconvert_exporter": "python",
   "pygments_lexer": "ipython3",
   "version": "3.9.13"
  },
  "orig_nbformat": 4,
  "vscode": {
   "interpreter": {
    "hash": "5443de0f2b07adc3b3add0de46a5b4098565165a57e2dd0675b9bf21e30b634a"
   }
  }
 },
 "nbformat": 4,
 "nbformat_minor": 2
}
